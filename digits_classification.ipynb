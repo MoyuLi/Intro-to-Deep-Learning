{
 "cells": [
  {
   "cell_type": "markdown",
   "metadata": {
    "slideshow": {
     "slide_type": "slide"
    }
   },
   "source": [
    "# MNIST digits classification with TensorFlow"
   ]
  },
  {
   "cell_type": "markdown",
   "metadata": {},
   "source": [
    "<img src=\"images/mnist_sample.png\" style=\"width:30%\">"
   ]
  },
  {
   "cell_type": "code",
   "execution_count": 2,
   "metadata": {},
   "outputs": [
    {
     "name": "stdout",
     "output_type": "stream",
     "text": [
      "We're using TF 1.2.1\n"
     ]
    }
   ],
   "source": [
    "import numpy as np\n",
    "from sklearn.metrics import accuracy_score\n",
    "from matplotlib import pyplot as plt\n",
    "%matplotlib inline\n",
    "import tensorflow as tf\n",
    "print(\"We're using TF\", tf.__version__)\n",
    "\n",
    "import sys\n",
    "sys.path.append(\"../..\")\n",
    "import grading\n",
    "\n",
    "import matplotlib_utils\n",
    "from importlib import reload\n",
    "reload(matplotlib_utils)\n",
    "\n",
    "import grading_utils\n",
    "reload(grading_utils)\n",
    "\n",
    "import keras_utils\n",
    "from keras_utils import reset_tf_session"
   ]
  },
  {
   "cell_type": "markdown",
   "metadata": {},
   "source": [
    "# Fill in your Coursera token and email\n",
    "To successfully submit your answers to our grader, please fill in your Coursera submission token and email"
   ]
  },
  {
   "cell_type": "code",
   "execution_count": 3,
   "metadata": {
    "collapsed": true
   },
   "outputs": [],
   "source": [
    "grader = grading.Grader(assignment_key=\"XtD7ho3TEeiHQBLWejjYAA\", \n",
    "                        all_parts=[\"9XaAS\", \"vmogZ\", \"RMv95\", \"i8bgs\", \"rE763\"])"
   ]
  },
  {
   "cell_type": "code",
   "execution_count": 34,
   "metadata": {
    "collapsed": true
   },
   "outputs": [],
   "source": [
    "# token expires every 30 min\n",
    "COURSERA_TOKEN = \"RHoQMRNSfW0c7H9T\"\n",
    "COURSERA_EMAIL = \"nliu36@wisc.edu\""
   ]
  },
  {
   "cell_type": "markdown",
   "metadata": {},
   "source": [
    "# Look at the data\n",
    "\n",
    "In this task we have 50000 28x28 images of digits from 0 to 9.\n",
    "We will train a classifier on this data."
   ]
  },
  {
   "cell_type": "code",
   "execution_count": 5,
   "metadata": {},
   "outputs": [
    {
     "name": "stdout",
     "output_type": "stream",
     "text": [
      "Downloading data from https://s3.amazonaws.com/img-datasets/mnist.npz\n",
      "10739712/11490434 [===========================>..] - ETA: 0s"
     ]
    }
   ],
   "source": [
    "import preprocessed_mnist\n",
    "X_train, y_train, X_val, y_val, X_test, y_test = preprocessed_mnist.load_dataset()"
   ]
  },
  {
   "cell_type": "code",
   "execution_count": 6,
   "metadata": {},
   "outputs": [
    {
     "name": "stdout",
     "output_type": "stream",
     "text": [
      "X_train [shape (50000, 28, 28)] sample patch:\n",
      " [[ 0.          0.29803922  0.96470588  0.98823529  0.43921569]\n",
      " [ 0.          0.33333333  0.98823529  0.90196078  0.09803922]\n",
      " [ 0.          0.33333333  0.98823529  0.8745098   0.        ]\n",
      " [ 0.          0.33333333  0.98823529  0.56862745  0.        ]\n",
      " [ 0.          0.3372549   0.99215686  0.88235294  0.        ]]\n",
      "A closeup of a sample patch:\n"
     ]
    },
    {
     "data": {
      "image/png": "[encoded data removed]",
      "text/plain": [
       "<matplotlib.figure.Figure at 0x7f3a8c5ee0f0>"
      ]
     },
     "metadata": {},
     "output_type": "display_data"
    },
    {
     "name": "stdout",
     "output_type": "stream",
     "text": [
      "And the whole sample:\n"
     ]
    },
    {
     "data": {
      "image/png": "[encoded data removed]",
      "text/plain": [
       "<matplotlib.figure.Figure at 0x7f3a71155d30>"
      ]
     },
     "metadata": {},
     "output_type": "display_data"
    },
    {
     "name": "stdout",
     "output_type": "stream",
     "text": [
      "y_train [shape (50000,)] 10 samples:\n",
      " [5 0 4 1 9 2 1 3 1 4]\n"
     ]
    }
   ],
   "source": [
    "# X contains rgb values divided by 255\n",
    "print(\"X_train [shape %s] sample patch:\\n\" % (str(X_train.shape)), X_train[1, 15:20, 5:10])\n",
    "print(\"A closeup of a sample patch:\")\n",
    "plt.imshow(X_train[1, 15:20, 5:10], cmap=\"Greys\")\n",
    "plt.show()\n",
    "print(\"And the whole sample:\")\n",
    "plt.imshow(X_train[1], cmap=\"Greys\")\n",
    "plt.show()\n",
    "print(\"y_train [shape %s] 10 samples:\\n\" % (str(y_train.shape)), y_train[:10])"
   ]
  },
  {
   "cell_type": "markdown",
   "metadata": {},
   "source": [
    "# Linear model\n",
    "\n",
    "Your task is to train a linear classifier $\\vec{x} \\rightarrow y$ with SGD using TensorFlow.\n",
    "\n",
    "You will need to calculate a logit (a linear transformation) $z_k$ for each class: \n",
    "$$z_k = \\vec{x} \\cdot \\vec{w_k} + b_k \\quad k = 0..9$$\n",
    "\n",
    "And transform logits $z_k$ to valid probabilities $p_k$ with softmax: \n",
    "$$p_k = \\frac{e^{z_k}}{\\sum_{i=0}^{9}{e^{z_i}}} \\quad k = 0..9$$\n",
    "\n",
    "We will use a cross-entropy loss to train our multi-class classifier:\n",
    "$$\\text{cross-entropy}(y, p) = -\\sum_{k=0}^{9}{\\log(p_k)[y = k]}$$ \n",
    "\n",
    "where \n",
    "$$\n",
    "[x]=\\begin{cases}\n",
    "       1, \\quad \\text{if $x$ is true} \\\\\n",
    "       0, \\quad \\text{otherwise}\n",
    "    \\end{cases}\n",
    "$$\n",
    "\n",
    "Cross-entropy minimization pushes $p_k$ close to 1 when $y = k$, which is what we want.\n",
    "\n",
    "Here's the plan:\n",
    "* Flatten the images (28x28 -> 784) with `X_train.reshape((X_train.shape[0], -1))` to simplify our linear model implementation\n",
    "* Use a matrix placeholder for flattened `X_train`\n",
    "* Convert `y_train` to one-hot encoded vectors that are needed for cross-entropy\n",
    "* Use a shared variable `W` for all weights (a column $\\vec{w_k}$ per class) and `b` for all biases.\n",
    "* Aim for ~0.93 validation accuracy"
   ]
  },
  {
   "cell_type": "code",
   "execution_count": 7,
   "metadata": {},
   "outputs": [
    {
     "name": "stdout",
     "output_type": "stream",
     "text": [
      "(50000, 784)\n",
      "(10000, 784)\n"
     ]
    }
   ],
   "source": [
    "X_train_flat = X_train.reshape((X_train.shape[0], -1))\n",
    "print(X_train_flat.shape)\n",
    "\n",
    "X_val_flat = X_val.reshape((X_val.shape[0], -1))\n",
    "print(X_val_flat.shape)"
   ]
  },
  {
   "cell_type": "code",
   "execution_count": 8,
   "metadata": {},
   "outputs": [
    {
     "name": "stdout",
     "output_type": "stream",
     "text": [
      "(50000, 10)\n",
      "[[ 0.  0.  0.  0.  0.  1.  0.  0.  0.  0.]\n",
      " [ 1.  0.  0.  0.  0.  0.  0.  0.  0.  0.]\n",
      " [ 0.  0.  0.  0.  1.  0.  0.  0.  0.  0.]] [5 0 4]\n"
     ]
    }
   ],
   "source": [
    "import keras\n",
    "\n",
    "y_train_oh = keras.utils.to_categorical(y_train, 10)\n",
    "y_val_oh = keras.utils.to_categorical(y_val, 10)\n",
    "\n",
    "print(y_train_oh.shape)\n",
    "print(y_train_oh[:3], y_train[:3])"
   ]
  },
  {
   "cell_type": "code",
   "execution_count": 52,
   "metadata": {
    "collapsed": true
   },
   "outputs": [],
   "source": [
    "# run this again if you remake your graph\n",
    "s = reset_tf_session()"
   ]
  },
  {
   "cell_type": "code",
   "execution_count": 11,
   "metadata": {
    "collapsed": true
   },
   "outputs": [],
   "source": [
    "# Model parameters: W and b\n",
    "W = tf.get_variable(\"W\",  [784, 10], initializer=tf.contrib.layers.xavier_initializer())\n",
    "b = tf.get_variable(\"b\",  [1, 10], initializer=tf.contrib.layers.xavier_initializer())"
   ]
  },
  {
   "cell_type": "code",
   "execution_count": 53,
   "metadata": {
    "collapsed": true
   },
   "outputs": [],
   "source": [
    "# Placeholders for the input data\n",
    "input_X = tf.placeholder(tf.float32, shape=(None, 784))\n",
    "input_y = tf.placeholder(tf.float32, shape=(None, 10))"
   ]
  },
  {
   "cell_type": "code",
   "execution_count": 36,
   "metadata": {},
   "outputs": [],
   "source": [
    "# Compute predictions\n",
    "logits = tf.matmul(input_X, W) + b # logits for input_X, resulting shape should be [input_X.shape[0], 10]\n",
    "probas = tf.nn.softmax(logits) # apply tf.nn.softmax to logits\n",
    "classes = tf.argmax(logits, 1) # apply tf.argmax to find a class index with highest probability\n",
    "\n",
    "# Loss should be a scalar number: average loss over all the objects with tf.reduce_mean().\n",
    "# Use tf.nn.softmax_cross_entropy_with_logits on top of one-hot encoded input_y and logits.\n",
    "# It is identical to calculating cross-entropy on top of probas, but is more numerically friendly (read the docs).\n",
    "loss = tf.reduce_mean(tf.nn.softmax_cross_entropy_with_logits(labels=input_y, logits=logits)) # cross-entropy loss\n",
    "\n",
    "# Use a default tf.train.AdamOptimizer to get an SGD step\n",
    "step = tf.train.AdamOptimizer().minimize(loss=loss) # optimizer step that minimizes the loss"
   ]
  },
  {
   "cell_type": "code",
   "execution_count": 55,
   "metadata": {
    "scrolled": false
   },
   "outputs": [
    {
     "data": {
      "text/html": [
       "<img src=\"data:image/jpeg;base64,/9j/4AAQSkZJRgABAQAAAQABAAD/2wBDAAIBAQEBAQIBAQECAgICAgQDAgICAgUEBAMEBgUGBgYFBgYGBwkIBgcJBwYGCAsICQoKCgoKBggLDAsKDAkKCgr/2wBDAQICAgICAgUDAwUKBwYHCgoKCgoKCgoKCgoKCgoKCgoKCgoKCgoKCgoKCgoKCgoKCgoKCgoKCgoKCgoKCgoKCgr/wAARCAEgA2ADASIAAhEBAxEB/8QAHwAAAQUBAQEBAQEAAAAAAAAAAAECAwQFBgcICQoL/8QAtRAAAgEDAwIEAwUFBAQAAAF9AQIDAAQRBRIhMUEGE1FhByJxFDKBkaEII0KxwRVS0fAkM2JyggkKFhcYGRolJicoKSo0NTY3ODk6Q0RFRkdISUpTVFVWV1hZWmNkZWZnaGlqc3R1dnd4eXqDhIWGh4iJipKTlJWWl5iZmqKjpKWmp6ipqrKztLW2t7i5usLDxMXGx8jJytLT1NXW19jZ2uHi4%2BTl5ufo6erx8vP09fb3%2BPn6/8QAHwEAAwEBAQEBAQEBAQAAAAAAAAECAwQFBgcICQoL/8QAtREAAgECBAQDBAcFBAQAAQJ3AAECAxEEBSExBhJBUQdhcRMiMoEIFEKRobHBCSMzUvAVYnLRChYkNOEl8RcYGRomJygpKjU2Nzg5OkNERUZHSElKU1RVVldYWVpjZGVmZ2hpanN0dXZ3eHl6goOEhYaHiImKkpOUlZaXmJmaoqOkpaanqKmqsrO0tba3uLm6wsPExcbHyMnK0tPU1dbX2Nna4uPk5ebn6Onq8vP09fb3%2BPn6/9oADAMBAAIRAxEAPwD9/KKKKACiiigAooooAKKKKACiiigAooooAKKKKACiiigAooooAKKKKACiiigAooooAKKKKACiiigAooooAKKKKACiiigAooooAKKKKACiiigAooooAKKKKACiiigAooooAKKKKACiiigAooooAKKKKACiiigAooooAKKKKACiiigAooooAKKKKACiiigAooooAKKKKACiiigAooooAKKKKACiiigAooooAKKKKACiiigAooooAKKKKACiiigAooooAKKKKACiiigAooooAKKKKACiiigAooooAKKKKACiiigAooooAKKKKACiiigAooooAKKKKACiiigAooooAKKKKACiiigAooooAKKKKACvPfjt%2B1J8FP2b5NGsfil4g1Maj4ilnTQNB8OeF9R1zVNR8lVed4bHTbee5kjiVkMkixlI96biu5c%2BhV4N%2B0P8D/j5/wANJ%2BDv2tv2bLLwfrWueH/B2seFNX8KeOdcutLtLywv7mwuxcQXtraXj288U2noCpt3WVJSCUKK1ABpf/BTL9izWLvxPb2nxXv0h8FWsk/jLUrvwXrEFjoIS0iu9l5dy2iwWsrQzRskMjrJIWKorMrKL2n/APBQ/wDZK1HwBrXxFTx/q9vB4f1ay0vVdE1DwNrNrrkV5ebfscC6PNaLqEr3AYGER27eaAxTcFYjy2b9gH4y%2BMf2a/jn8NfGHinwppHin4o/FS38daHc6U1xeWFpeW0OiywQ3IkihkkiN3pRRwoyYHGDuJVaPi79i/8AaV%2BLmr/Ef45fG34S/CjWvFnjWx8KaPp/gKy%2BI2s2Wm6fY6Hcaldw3qa7b6al5DqDXOqTOksVoPJSKNFZiWcgHsviH9vv9mzwv4a8OeI9XvvG3meK0v5NE8P2vwm8SXGuSRWUscV3NJpMWntf28MLzQq8s0CIpmiy37xM%2Bmaz8RPBHhv4e3XxX8T%2BJbbSvDljo76rf6vqrfZYbSySIzPPMZdvlKsYLNvxtAOcYNfGHin9hH9s/WPgX4X8Nay3hfxV470a58RHRfGV/wDHbxNpGr%2BCLW%2BuUktLO11q1sJLzXIYkjhEy3qw/aTbReYCFGPUfjR/wTotfj1%2Bzb4n%2BHHxD%2BOfjW78d%2BMPhfH4Z17xS3jbWho818tpDE2oJoS3y2FuzzQLK3kRRSEPIBIrSM5AOkg/4KUfsZf8K58V/FbWPite6Jo3giysr7xQ/ifwdq%2Bk3NlZXkxhtb37LeWsVxJaSyK6pcxxtC3luQ%2BEYjj/AI3f8FZP2d/hn8ENU%2BMfgPRfFXiqbQfiD4X8L674Y/4QXXbHU7A6zqVrax3T2cmnNdeV5Fw88DeT5d48aW8MhknjB8r1T/gmJ8ZPHfwq8faR4i8DeG9G8Y%2BI9D0fR7DxDqv7RfjPxut3aWusW%2BoTRyf27AfsEZ8likUSzHe%2BGkxknv8A9qH9gz40/GD4g/F/4g%2BBfEPheOTxfB8LbzwlZ6tfXMSvf%2BE/EdzrUsN40dvJ5ENwGt4VljEzrl2MfyKrgHqFh/wUE/Zb1H4m2XwZh8T%2BJo/Fd5oun6xLoF38N9egudO0%2B9adILu/SSyU6dDut5VeS68pYiFEhQum6j4a/wCCmH7FPi3wZ4s%2BIWkfGC4TR/Bfgi68Zaxe6h4S1W0Fx4et0Z5tWsVntUbVLNVQ4nsxPGxZArEugbB0P9kP4ofEP4mfG74g/G9fD2gxfGj4O%2BHfCF1Y%2BE9duNRl0u4tE11Ltlnns7XzYwNViMT7FZikm6OPA3fN37Y37Kn7UOj/ALDHxS%2BJv7TF34AtIfhD%2BxT8QfBHhePwFqF5cNrzXukWxn1G6W5toBYqE0i3CWcbXAVppCZ22oKAPrPw9/wUl/Yy8TaHrHiPT/i1dQWehppU1/JqnhLVbJmtNSu1s7HUIUuLVGubCWdgovoQ9qoDO0qorMPT9E%2BLvw88R/FLX/gvofiH7T4k8LaXp%2Boa/YR2k22zgvmuBa7pinlF3%2ByzHy1cyKoRmVVkjLfJOofsz%2BIPFegeKfjb/wAFIvF/wz8J%2BBbf9nu5%2BHUlx4f8QTLay6beyQyXmq3k17BbpYOTBbCG2QzCAmT/AEiQsuOw/wCCPngP4u2f7I9r8f8A9pDUDf8AxJ%2BL15H4n8V6g9nJbtJCLSCy01fKl%2BeH/iX2lpI0TYKSzTZAYtkA%2BqqKKKACiiigAooooAKKKKACiiigAooooAKKKKACiiigAooooAKKKKACiiigAooooAKKKKACiiigAooooAKKKKACiiigAooooAK8R0j/AIKMfse6ld69Z6n8Urzw83hzw5c%2BINQk8a%2BEdV0GObSbd0jnv7WTUrWBb63R5IlaW2MqAyxjOXXPtN7FczWcsNndCCZ4mWKYx7/LYjhtp64POO9fmJq//BHL9uX4v6t4X1z43fHHQ31vw14P1Cz1DxRqHxW8TeJx4h1v7ZpV9a6idLvoobLSbaS50xfPsLIBRHJtWWQKgUA%2B2X/b/wD2YbX4aN8WNY8QeKtK0ttcg0axs9c%2BGWv2GqanfzIZIYLLTbixS9v2kQM6/Z4ZAyo7AkIxHReA/wBqz4H/ABH1%2By8J%2BHPEOqQ6vf8AhSfxJDpGteFdS0y7TTYbv7JLLLDeW8UkDrP8hhkVZe%2BzbzXk3xO%2BDn7bvxib4e/G3XPBvwq0P4h/Cjx1NrHh/wAM2vjjUr/Rdcs7jSbvTLmO4vn0qGaxmKXskkbpa3AjMQU%2BYJGxV%2BJPwG/bg1/4y%2BHf2mvA%2BjfCu08WX3ww1XwX4x0LUvFepSWGkLcX8N1a39lcJpwk1AxCN1kt5YrQSlxiWLHIB3Gk/wDBRv8AZA8R694F8LeFfiNqus6n8SfBuleLfBunaJ4H1m9nvND1F9lrqMiQWjNa2%2B7HmSTiNbcMpm8oMCdj4a/tufs3fFf4jXPwn8M%2BL9Ws9ft9LudThsvE/gzVtEW/sbeRI57uyl1G1gjv4I3liDy2zSIvmISQGUnyj9hT9hL4sfsw6/8ADjWfHniDw1dnwd%2Byl4R%2BGN%2B%2BkXM8rNq2lvM1zNF5kEe61bemxmKu235o0wK8a%2BGn/BKv9sbxP8UfC/ib9qb4w2eqRaf4A8V%2BF/GniaD4v%2BJNavPEUur2KW39p2umX0Men6EcqWNpaKUXKgTOI1WgD6l8J/8ABRf9kfxrosfirQfHeuf2Hcarpen6f4lvfh/rdrpWoy6lex2VlJaX09mlteQS3M0UYuIJHhBlQs4VgT6X4W%2BLvw88a/EDxT8LvC/iH7XrnguSzj8T2iWkwWxkuoPtEEZlZBG7tCVkKIzMiyRlgokTd8w%2BOPAnxF8K/wDBPbxp8CP%2BChnif4VeCPAWg/DSLQLb4meHfFt2GadI0trXUntLqzgTTZlmFvJDBHcXTGcoiOTtDdr/AMEr/h98WPDf7ImlfFX9oqwS3%2BJ3xYvpfHXxEhW3aL7Pf36xmG02N8yfZbGOys9pyQLXBoA%2BjaKKKACiiigAooooAKKKKACiiigAooooAKKKKACiiigAooooAKKKKACiiigAooooAKKKKACiiigAooooAKKKKACiiigAooooAKKKKACvF/j14/8A2i/%2BGi/AvwI%2BAvjPwV4fTX/BXiXXtX1Pxf4Lu9aJOnXeh28MMMdvqVj5Yb%2B1JWZmZ8%2BWgAXkn2ivCviLrSWX/BSr4Q6LIoxe/BP4hsjZ53R6t4NOPyZj%2BFJtLcuEJVHaPZv7tWX/APhB/wDgoX/0dB8Gf/DD6t/81FH/AAg//BQv/o6D4M/%2BGH1b/wCaivZqKZB4z/wg/wDwUL/6Og%2BDP/hh9W/%2Baij/AIQf/goX/wBHQfBn/wAMPq3/AM1FezUUAeM/8IP/AMFC/wDo6D4M/wDhh9W/%2Baij/hB/%2BChf/R0HwZ/8MPq3/wA1FezUUAeM/wDCD/8ABQv/AKOg%2BDP/AIYfVv8A5qKP%2BEH/AOChf/R0HwZ/8MPq3/zUV7NRQB4z/wAIP/wUL/6Og%2BDP/hh9W/8Amoo/4Qf/AIKF/wDR0HwZ/wDDD6t/81FezUUAeM/8IP8A8FC/%2BjoPgz/4YfVv/moo/wCEH/4KF/8AR0HwZ/8ADD6t/wDNRXs1FAHjP/CD/wDBQv8A6Og%2BDP8A4YfVv/moo/4Qf/goX/0dB8Gf/DD6t/8ANRXs1FAHjP8Awg//AAUL/wCjoPgz/wCGH1b/AOaij/hB/wDgoX/0dB8Gf/DD6t/81FeneK7aC/udJ028iWW3uNTK3ELjKyKLeZwGHcblU4PpXlP/AA1//wAE4P8Ao6L4I/8AhbaP/wDHayq4ihQt7Wajfu0vzaPQwOU5tmnN9Sw1Sty2v7OnUqWvtfkhO17O17Xs7Xsyx/wg/wDwUL/6Og%2BDP/hh9W/%2Baij/AIQf/goX/wBHQfBn/wAMPq3/AM1FV/8Ahr//AIJwf9HRfBH/AMLbR/8A47Wt4G/aB/Ya%2BKHim18DfDT43fCfxFrd9v8AsWj6F4l0y7urjYjSPsiikZ32ojOcA4VSTwDWccbgpyUY1Ytv%2B9H/AOSOytwxxPh6UqtXAV4xim23QrpJLVtt0Ukkt22kurRR/wCEH/4KF/8AR0HwZ/8ADD6t/wDNRR/wg/8AwUL/AOjoPgz/AOGH1b/5qKk/av8AjT8HP2R/hzpfxK8afCe71e01Pxnovh1Lbw34Sm1G4STUb6K0WXybWCWRlTzd20LmRgsSZkkjVszSf2s/2P8AxBq/inQfDfhrX9UvPBIiXxTb6V8G9dunsJ5Es3W0YRae2678u/tZDarunWN2cxhYpGTpPDL/APwg/wDwUL/6Og%2BDP/hh9W/%2Baij/AIQf/goX/wBHQfBn/wAMPq3/AM1FYWv/ALZX7G3hzQbP4h6pqWgWnhN/BPijxNqmpah4dvoL2wtdAubO21ESWRsd8bW8l0UmimaK4jkRUWGX96Yer%2BGHx0/ZP%2BL0F9J4SudNtpdO16HRruw8S%2BF59Fu1vpoUngiFvqEEEr%2BbE6vEyoVlUkoWAOACj/wg/wDwUL/6Og%2BDP/hh9W/%2Baij/AIQf/goX/wBHQfBn/wAMPq3/AM1FQftKfEq6%2BA3ir4d22h/s7%2BGde8P%2BMPGtl4d13WLnWVsrjSJLuZIoJIbYWcovMszFlaSAKE4ZiQK6j47%2BJ/hv8Dfhpe%2BO7r4cWGq3vmw2Wg6Da2cKz6xqdxIsNpZRErhXlmdE3t8qAs7kIjMADnv%2BEH/4KF/9HQfBn/ww%2Brf/ADUUf8IP/wAFC/8Ao6D4M/8Ahh9W/wDmoryPxt%2B2R8Q9P/YN8Fft1/Dj9jX4e6xY%2BKfAWj65c%2BFdX%2BIM1hepqOprbLZ6VaPHotwl28txdRW6ySfZwXdcoATjp9V/as0zSfjpc%2BBpv2adAfwRpPxE0zwFr/jNNYT7VbeIb6wtruFYrE2eJrMPe2ds1wbhJBNMQICiM9AHa/8ACD/8FC/%2BjoPgz/4YfVv/AJqKP%2BEH/wCChf8A0dB8Gf8Aww%2Brf/NRXn3ib9ru3%2BCOu%2BMdG/ai/Zh8MaAPDXwyvvHNifB3iNNbkudPtbhYDbXCS2NoLW7leSMRIGlikImAm/csTzXjP9vfRPAv7PWi/HHVvht%2Bz5cLr3xIt/CsF/p3xyhn8O6cJLWWdpb7V10jbbSxtE0bQLDIMuhEp3YAB7N/wg//AAUL/wCjoPgz/wCGH1b/AOaij/hB/wDgoX/0dB8Gf/DD6t/81Fc/8Rfjbrnw9b4PakP2dPAGs6L8SNfsdH17W9E8ZiaDSZ7uMvBJY/8AEtH9pwttY%2BYxtflwwBJ2jP8AAn7UHhvx9%2B3B41/ZEsvhr8JrKLwRqsFndnUPiCieJr%2BOXRLLUxd22iDTiJLYPfJbmQ3SgeVK/VRGQDsP%2BEH/AOChf/R0HwZ/8MPq3/zUUf8ACD/8FC/%2BjoPgz/4YfVv/AJqK8X0T/gop4RXwAfij44/ZR0zT9G8U/DK48efB9dM1mK7uvFWlpd2VrFFcRvaQpp1zK%2Bq6SVQPcIFvvmkBjda7nRPjj8SNe8I%2BN7Mfsu/C7TPG3w18RJZ%2BNtJ1z4hTwaNDp76ZFqKahbalHokksymOeNCklpDteOf5iI0aUA6//hB/%2BChf/R0HwZ/8MPq3/wA1FH/CD/8ABQv/AKOg%2BDP/AIYfVv8A5qK8Pl/4KD6lB8EtE%2BMlz%2BxJocX2L4L23xT%2BKWkTeKAs3hnw9cNM0K2udOzqN60FreS/Z3W1A%2ByshkDMoPs1h8UZl/bIuf2Z/EP7PPhm28P3PgO48S%2BGvF9nrC3NzqC289jBPFLY/Y1FuBJe4R1uJS4iJKJuFAFr/hB/%2BChf/R0HwZ/8MPq3/wA1FH/CD/8ABQv/AKOg%2BDP/AIYfVv8A5qK8N8G/8FLPAGqfDlPH3jL9mbw7YzeJvhdZePPhjoWjeJYNQvNb0%2B8vbawtbe9DWkK6bdNdX1jEyq1xEpnkxK5hcV2t/wDte6L4P%2BEvj/U/iN%2BzToNt8R/AviqPwxH4C0HWEvrfW9VuNPttQsltL6SzgcwPbXSSSzPbKbdLe7dkZICzAHe/8IP/AMFC/wDo6D4M/wDhh9W/%2BaiqHgfxx%2B1Z4O/as8OfBH43fEf4e%2BJtG8TfD3xDrkM3hX4eX2i3VpdabfaJborPcavfJLG6apKSoRGDRIQ2Mg9H8LvEvhb4v/sw%2BHPj7pvw/sdCufE/gSz8Q29pbhHewe4skuVjWZUQuULhd%2B1d23O0ZxWX44/5SF/C/wD7Iz48/wDTt4QoA9mooooAKKKKACiiigAr5x%2BE3ir9u/466Pr3jvwv8b/hJoGl2/xC8VaHpelX/wAH9Uv7iK10vXr/AEyFpbhPEUCyyPHZq7MsUa7nICgAV9HV4z%2Bwf/yRDXP%2ByzfEf/1NdboAP%2BEH/wCChf8A0dB8Gf8Aww%2Brf/NRR/wg/wDwUL/6Og%2BDP/hh9W/%2BaivZqKAPGf8AhB/%2BChf/AEdB8Gf/AAw%2Brf8AzUUf8IP/AMFC/wDo6D4M/wDhh9W/%2BaivZqKAPGf%2BEH/4KF/9HQfBn/ww%2Brf/ADUUf8IP/wAFC/8Ao6D4M/8Ahh9W/wDmor2aigDxn/hB/wDgoX/0dB8Gf/DD6t/81FH/AAg//BQv/o6D4M/%2BGH1b/wCaivZqKAPGf%2BEH/wCChf8A0dB8Gf8Aww%2Brf/NRR/wg/wDwUL/6Og%2BDP/hh9W/%2BaivZqKAPGf8AhB/%2BChf/AEdB8Gf/AAw%2Brf8AzUUf8IP/AMFC/wDo6D4M/wDhh9W/%2BaivZqKAPGf%2BEH/4KF/9HQfBn/ww%2Brf/ADUUf8IP/wAFC/8Ao6D4M/8Ahh9W/wDmor2aigDxn/hB/wDgoX/0dB8Gf/DD6t/81FH/AAg//BQv/o6D4M/%2BGH1b/wCaivZqKAPGf%2BEH/wCChf8A0dB8Gf8Aww%2Brf/NRR/wg/wDwUL/6Og%2BDP/hh9W/%2BaivZqKAPGf8AhB/%2BChf/AEdB8Gf/AAw%2Brf8AzUUf8IP/AMFC/wDo6D4M/wDhh9W/%2BaivZqKAPGf%2BEH/4KF/9HQfBn/ww%2Brf/ADUUf8IP/wAFC/8Ao6D4M/8Ahh9W/wDmor2aigDxn/hB/wDgoX/0dB8Gf/DD6t/81FH/AAg//BQv/o6D4M/%2BGH1b/wCaivZqKAPGf%2BEH/wCChf8A0dB8Gf8Aww%2Brf/NRR/wg/wDwUL/6Og%2BDP/hh9W/%2BaivZqKAPGf8AhB/%2BChf/AEdB8Gf/AAw%2Brf8AzUUf8IP/AMFC/wDo6D4M/wDhh9W/%2BaivZqYs8DTNbLMhkRQzxhhuUHOCR2zg/lQOzZ45/wAIP/wUL/6Og%2BDP/hh9W/8Amoo/4Qf/AIKF/wDR0HwZ/wDDD6t/81FezUUCPGf%2BEH/4KF/9HQfBn/ww%2Brf/ADUUf8IP/wAFC/8Ao6D4M/8Ahh9W/wDmor2aigDxn/hB/wDgoX/0dB8Gf/DD6t/81FH/AAg//BQv/o6D4M/%2BGH1b/wCaivZqbNNDbwvcXEqxxopZ3dsBQOSST0FAJNuyPG/%2BEH/4KF/9HQfBn/ww%2Brf/ADUUf8IP/wAFC/8Ao6D4M/8Ahh9W/wDmorS%2BFn7b/wCyH8bPGt78OfhV%2B0X4T1rXbC6a3l0u01ZPOldephDEfaFH9%2BLevvXqhIAyTgDqayo16GIhzUpqS7ppr8GzvzHKs0yiv7DH0J0Z2T5akJQlZ6p2nGLs1s7W8%2Bh4z/wg/wDwUL/6Og%2BDP/hh9W/%2Bairf7K3xG%2BNPjDWPih4E%2BOmv%2BF9W1TwD8QotDs9V8J%2BGrnSbe6tZdB0fU1Z7e4vbxlkWTUZULCXaVjQ7VOc8r%2B0V/wAFKv2fPgb4kT4VeDzqPxJ%2BIt3ldP8Ah/8AD%2B3/ALQvmf8A6btHlLZRkFi53BTuCMBWX/wTd8UfGLxrqPx38VfHz4b2ng/xXffGaGXUfDVlqS3iaen/AAiPhvyIzMvyyP5AiLkYG8tgAcDGljsLXxEqNOXNKO9tUvJtaJ%2BV7%2BSPSx3CufZXk9LM8bRdKlVaVPnajOomm%2BeFOTVSVNWs6nIqd2kpSb0%2BmaKKK6z54KKKKACiiigAooooAKKKKACiiigAooooAKKKKACiiigAooooA8X/AGOfi78cPiVdfFLwd8fr3wpd6z8P/iY3h62vvB%2Bi3Nha3Fq2jaVqSForm6uXMitqDxlw4VxGrBEyRXzX4Y/4Ku/HK2k8f6z4x8EeH7yHQPh74r1/S9Bj8MalpBtr/TNWg0%2Bzso9TuZ5bbxDBMZ8z3unRrFaNGiyDdcRLX0p8Cf2PNY%2BBPjTxf41tP2sviV4jk8ceK4fEGvWPiG08OiB7tLW3syE%2ByaRA6Rvb2ltEwD5xCGUq7OzcvoX/AATA%2BBVjo174M8U%2BO/GviXwz/wAITrXhHw14X1rUrRbXwzo%2BqSRPd29lJbWsNwW/0e3WOa5lnliWFRG65bcAdd%2BzJ8XPjH4j8feP/gX8f7vwzqHibwLdaZMuueENHuNOsdQsb%2B082Jvs1xc3LwypLFcxMPOcMsccg2bzGnkHxZ%2BOPws8T/8ABY/4C/DrwR8TvD%2Bsa1o/w3%2BI9j4n0fStZguLrSZHk8NTRx3UUbl7dmFu5UOFLeW2M4Ne%2B/AD9nPSvgMfEOsXHxI8TeNPEXivUYbvxB4s8YSWZvrvyLaO2gi22VtbW8cUcUYCrHEuWeR23PI7N87ftl6u2k/8Fjf2L1LYjvPDvxPtpD/vWGjso/76Va5cZP2dDm84/jKK/U93hzDfW809l3p1n/4DQrS/9tPs2iiiuo8IKKKKACiiigAooooAKKKKACiiigAooooAy/EH/IW0P/sKv/6SXFedf8MD/sK/9GWfCX/w3Omf/GK9F8Qf8hbQ/wDsKv8A%2BklxXy//AMPzf%2BCWX/R0X/lk65/8hV5%2BOr5VR5frsoK97c/L87cyflexUeKavDXwY%2BWG9p2rTpc3L35alPmtfre1%2Bl9fW/8Ahgf9hX/oyz4S/wDhudM/%2BMVreBv2Rf2UPhf4ptfHPw0/Zh%2BHnh3W7Hf9i1jQvBVhaXVvvRo32SxRK6bkdkOCMqxB4Jrw7/h%2Bb/wSy/6Oi/8ALJ1z/wCQq634Gf8ABVr9gb9pT4p6X8FPgp8ev7a8Ta15/wDZmmf8Itqtt53kwSTyfvJ7VI1xFFI3zMM7cDJIB46OM4alVjGlOjzNq1vZ3v0tZXv2tqU/EjEY5fVnnU6in7vK8VUkpX05eV12pX2s009rM9C/al%2BBmrftCfCuHwR4c8aW/h7VtO8V6F4i0XVr3SGv7eK80rVbXUoVmt1mgaaJ3tRG6rLG21yVdSAa8u8c/sAa/wCOvg78Qfh5qfxf0iTUfH/xO0/xpqMl54MebR55LeHS45dOu9PN6HvLKb%2BzjviNwhKThCzbCX9p%2BMXxl8MfA/RNI8SeMbC/ksNW8VaXoBu7KJGSyuNQuo7O2lm3OpWI3E0MRZdxBmU7du4jxD43f8FXv2b/AIA/D8fFvx/o%2BsQeFh4k1/SJNcn1nQrJSdGu2tb24ggvdSguL6MSxzhEtIp53EDFYvni8z3DM4DSv%2BCOUGm/BO/%2BDsPxz0qzjv8AwV8StAH9h/DyOwsbP/hLtRsL0tbWcd3thgszZGJIAx8xZBl0KEv9I%2BGfgT4i8GfHPxv8aPDvjuy/4ri60U32mXuhvJ9nt7G3kheOORbhP3ku8MJCpEe3BSTOR5dd/t9W/g740eMvB/xRvtO0zw74d%2BMdx4XsdStNHefdpkHw6s/Fk89zKbpfKZXlusSxxSho44ovJDM1wtn4F/t4%2BIfjD%2B0F4i8A%2BIPgT4t8HeHtM%2BG/hvxHpdr4g8PifV7ttV1HULZJtmnXN2n2cpbQnYypNARM04jUfKAdV%2B2R%2Bzz8cf2hrPwXZ/B341%2BFPBy%2BFfGFp4iuz4m%2BH9zrpvrmzljlto08jVLHyYwRIJAfMLh12mPYd%2B78Xv2ZPCX7RK2Fp8cdQ1C5h8Pa6mreEbjwd4i1jw3faZc/YZLSWRrvTr%2BOWUstxdAYKKI59hVypkbC/bo%2BLvxw%2BBHwetPir8F73wog0/xRpFv4gtfFGi3N59qsrvUbazdLcwXUHkzD7RuEj%2BYo28xtmu6%2BOnxf0b4F/DHUfiLqumXGozQGK20jRbIgXGr6jPIsFpYw7uPNnnkjiUthQX3MQoJAB498KP8Agnlpvwv/AGc/gF%2BzMfi1qGq6D8FtU0zUtVOpRXFzJ4nubCzmW1Ba5upWs4Y754L1IQ0ixfY4YY9kajFvXv2HNb1n4%2BXnjuL4xQQ%2BA9X%2BI%2Bm%2BPta8EHw0WvJ9esbC3tIDHqH2kLFabrKzuWg%2BzNI00LETKkjR15Dbf8FCf2kIPgd8O9d%2BJfij4TfD/XPEXiHxxpXifxxr2iahc%2BGra80LWLjT7XTYIvtsMv2m9WJnjZ5yT9lnCROzpGJdF/4Ka/GH4n%2BAtJ/aQ%2BGvhDw3pvgLSvBHgHxD410HXdPuZ9Xuh4kZHmhtLiO4iitjZW0scgMkM/2mQtF%2B4CiQgHX%2BG/8AgnT8SfE3gH4y/Dn9qD4%2BeF/HMHxq0m%2Bs/EOvaX8OJ9M1eISB47OITTardwG0soXZIbVbdF3EyuWklnabq/BH7LH7SPw/n8WfETQP2gvAJ8f%2BM9Z06fV9Tn%2BE1z/YkdlZWDWkUMOnR6ykyzkEM1y12%2BQojEYRVC%2Bb%2BBP%2BCmepW/7UKfCz4zeMvAelabqPi3xjoknhGKyuLfW/CMGiLe3EGq6pcy3LRNa3tjp8t1H/AKPAAlxEY5LhUketr4O/8FBviT4g0H4u%2BNfir8Lrayi8PeItItPhd4RsYJYNX1ePVbK3m0y0u/Ocql7cSXERZQkaWwlKSZ8iSVgCz4j/AGAPjNo/wQ%2BE3wX%2BBX7RvhbQ4/hr4p/4SS9vvFPwzn1UapqInmnVYYbXVbJbK1ElzcAQDzNqGFFdRGS/oHxF/Zq%2BKfxb%2BOXhXxv46%2BLvhseDvBfi6PxJoPh/SPAktvq5vY7Ga1VZ9Te/kRoT58rMsdrE7JsjMhXf5nzt4m/4KPftTeG/2afhx4713S/Cdl4n8RXPjODxRqXh74ba54ntYp9DvZ7aOK20mwu1vlinERZ715GhtygEgHnx46bT/wDgpL4j8V/Gbwp8PpfGHgzwTYp4U8Hat4zuLzwrqfiW2uLvXSSljBqmnzxWWmRYVIoL%2B6aSO5luAI4z5TCQA0dE/wCCWVy3w/Pwt8cfH86ho3hb4Y3HgP4PtpnhYWl14V0t7uyuopbmR7mZNRuYn0rSQrhLdCtj80ZMrtXWap%2Bwv428cfA74r/Dv4ofHazvfEvxp1S3PjnxHoXhOSwtBpS21nYTabaWb3s0kCyafbTRea9xKyzXkk2GULCL8Hxj/aV0D9r6D9nfxB4p8Aa7aeI/Cmt67p0OheFr23vPCVvb3MEOny6jI9/Kl7HcGaSP5EtGaS3l8sOqSGPyHUv%2BCk/xe%2BG/gn4l2/xA/sLVdY8L%2BMPC3hrw5rx%2BGeueHUmvdZuvsxaXQ7y4uNQuIrf/AFscsD7NQJMFuQ6M9AHq/wC1P%2Bwvq/7QGu61P4H%2BLtt4Q0nxz8Of%2BEB%2BJOmN4YN6%2Bp%2BHxLO6R2Ui3MIsLlEvb%2BJZmSdAt1nyt0akbWr/ALOnx0vP229I/ad0342eELbwppHhG68OJ4Lf4d3T372lzLaXErf2kNVWNZPPs4yh%2Bx7VjZkKs2JR438Q/wBub46aD4E%2BH3iXwl8V/Ct5pGoz%2BI4/iN8Q4f2c/FV7aaBJp7xCO3utHh1EXejuu%2BVZnvJtqmAsRGGwPQ/2hPjX%2B0z4M%2BKHwjtfgt8UPhrrGhfE3xppul22i3XgW9ubqbTltZr/AFO/i1CHV0iRBZWs7Qk2zqJJIEYybxkA5dv%2BCWeheIr7x34u8Z%2BKPBWmeJvFGjGx0LVfhp8L4vD8Wlz/ANoQal/aNzC13ctqN615Z2EkkkkiIy2aKsab5Gbbm/4JqeEPiRpPiHxF%2B0j8RNT1/wAeeI/EtzrkvirwLqmseEoLC4k0i20hI7a3sdTMohWztY1aOa5m3tJO2QJdo1YfjJ%2B1Jo37Vs/7OOp%2BJ/h1r7a34E1rxDpI0fwvf2svhPybq3g03%2B03e/mW8jujNMoKJaOzWM/lq6q5irfCX4wftVfEm4%2BKXwvPxT%2BGQ1n4d69Y2SfEi1%2BH9%2BdDneS0W4vLGTT21gSLc2waPfIt6UHnoGRWR0AB33wX%2BBmn/syfsfaB%2Bz3pniW%2B1mHwb4Ej0katqV1cTS3jQ2uxpSbiaaRFZgSsRkZYlKxqdqKBk%2BOP%2BUhfwv8A%2ByM%2BPP8A07eEKpfsi/F34ufH/wDYb0r43/GoaGdV8WaHqGqafJ4d0W4062m0iaSd9Mn%2Bz3FzcyRSS2JtpZEMrbXkZRwBV3xx/wApC/hf/wBkZ8ef%2BnbwhQB7NRRRQAUUV8xf8FHz8IxrPwb/AOGozoH/AAp7/hYF3/wnv/CYeT/Yfmf2JqP9n/2l5/7n7P8Aatm3zv3f2n7L/wAtPLoA%2BnaK%2BBTH4Z8a/wDBL34b2fxU%2BKngK0sPB2raRqeteG/jN4nGn6Xq%2BhmacaVputTTJK9uJrR7OZDPDKXmt4g8b5YV8z/GLSJvEP7NngbTvjX4r%2BG3hHTf%2BER%2BLN38Pj4/0KS/8OzWE2vxHRbPQUmkt3g1JLLyjpt2FeSOzP7uyl8xkhAP2Srxn9g//kiGuf8AZZviP/6mut12XhXV/iBJ8ANF1zwh4JMniOTwvZy22geNddltXW4aCMmC8u47ed1kUkh5BC5LA/Lzx5//AME6bjxLd/s3X114y0mxsNXk%2BLfxDbU7HTNRe7trec%2BM9a8yOKd4YWmQNkB2ijLAAlFzgAHulFFFABRRRQAUUUUAFFFFABRRRQAUUUUAFFFFABRRXDftAftKfA39lvwJL8R/jz8R9O8O6WmRC15JmW6cDPlwRKDJO%2BP4UUnHPTmoq1aVGm6lSSjFbtuyXzZ1YHA43M8XDC4OlKpVm0owhFylJvZKMU236L7ldruaK%2BNtO/aB/wCCl/7YNyPGX7J/wo8O/CrwJbAy6VrHxfs5n1DxKf4cWcGWtLcg53nLMNrIxBKi3eftBf8ABYXwxbnwRqv7B/gHX9bvCIbDxn4f%2BIQh0W3k7yz2txi68sDLYDBjjA5NeUs6w7XMqdRx6SVOTT9La%2BjcUnve2p95LwzzeE/YzxuDjXXx0pYujCdP/Hzfu7payjCtUnGzi4uXun1nrmvaH4Y0mfX/ABLrNpp1haxmS6vb64WGGFB1ZnchVHuTXzT40/4LJf8ABPfwV4qfwwfjY%2BsxWjgatrfhrQ7vUdO00E4VprmCNkKseAYy/PXFYfhn/gmDq3xw1uD4mf8ABSj40XvxX1qN/NsvBthLLYeF9Hb%2B7DaxlWuGHTzZMFx99GPNfUHgn4YfDb4aeFE8C/Dv4f6LoWiohRdJ0jS4ra2AIwR5caheR145701UznFe9CMaMenNecn6qLUY/wDgUn8xSwnhrkL9liqtbMKu0vYOOHoR78lSrTqVqrXR%2BxpU2%2B8d/Pr/APb6/YysPg7e/HoftJ%2BErnwtp6A3WoWOrxzurkErD5KEymZsHEW3ecfdrxHw38YP%2BCm/7ZtzJ8Uv2cdI8N/B34eKn/FMj4j6G93q3iRSci6kgQ/6JCRygzuOc5dWBX2G7/4JxfsLXnxXsPja37LnhGLxJps5ntbu104Qw%2Bd1817aMiCWQH5g7ozBvmBB5r2ul9VzPFytiqihFdKTknJ93Jq8V/dXzk1ZF/2/wPw/Rc8jwcsRXnvLGxpThRj/ACU6VOSp1JvrWqWstKdKMrzPkl7j/gtp4E/06aw/Z78eWkf37G0k1XTL6b/ceTMK/wDAqq6j%2B1z/AMFQPFUa/DTwf/wTWi8L%2BLro7f8AhJfE3jy2vfD1hH0Nw8lsBJKc4xCvz855wQfsCim8rrLSniqqXW7jL7nKF16q5jHjvLqj58VkWCnNaxcadakr9OaFLEezqLvGSins2le/xfe/sA/t4aei/H3SP%2BCi2v6h8YYDvXT7%2BzWPwfPB1OnHT0U7IycD7QMvwG2BuQll/wAFR/jro6t8D/GH/BP7x9c/HCAiP/hFNEjVtFu06DUE1NiUis2IxuYNsY7SxwWH2jRU/wBkSoO%2BErSp3%2BK/v38/fbtP%2B8tO8XZHR/xEOhmkeXiHLaOL5NaTivqrp22pt4aEOeh/06kuZfYrx5pX%2BPbH9kL9v39p0N4j/a%2B/bK1T4e6fdnMfw7%2BCUi2QtIv7k2pSBpZXIwHADJkHacHij4r/AOCS%2BmfA9bf4z/8ABPn4ka14P%2BKmlb5J9Q8Ta9c6lZ%2BLIzgtaakkrMNrbRh4wuwndtJCsn2hRTeRZdON6icp/wA7lJzT7p391/4Ul0s1o4h4rcY4eqo4SdOjh9nh6dGlDDzjs4VKag3Wi1o/bVKkn8XNGaU4/DsX/BT79pH4nW4/Zp%2BD/wCxzrdh%2B0FE5tvE%2Bk%2BI4ymg%2BGVAA/tOW7U/v7Z87olXl8EAt8nmtuP2Ff26P2c1X9qT4I/tW6v8RPivPmf4g%2BFPFs4j0PxVD1FpaRDAsWiGVhbIHOP3akrX3JgZ3YGSOTRUf2NOv72KrynJfC17nL2aUdHPvJpp6pRSbT6v%2BIkYfLH7PIcroYajU1r05r6x7e/xU5Tqrnhh1/y7pU5QlB8s5Vp1IQlHx79kD9tH4Z/tgeFr%2Bfw7p9/4f8VeHZxaeNPAuvRGLUtCu%2BQY5UIBZCVbZIBhgDkKwZV9gkkSJGllcKqglmY4AHqa%2BU/27/2eviV4J8d6d/wUJ/ZG0fzviN4NszD4q8NQZVPGugjBmspAo%2BaeNRuibBbKgAMVjA4P9pH9tvTf26/ht4C/ZY/Yj8Xs2ufG2wabxNqsX%2Bv8I%2BHY2KahJcKD%2B7nJEluqk4Y79rAtGxj%2B1amBhOji9asfhtp7VN2jyrpLmtGa%2By/e%2BF6dK4BwnFOJw2ZcPv2eBrN%2B3525/UZQi6lZVZWTlSVJSqUKjSdWNqTvXi1Lp9I/4KP/ALT3xx1LWdW/Ys/4J%2BXXxF8Fadrdxpen%2BO7/AOJVho1tqckDBJJYIZ4y8kW/IV1JDY7EMop6x%2Bzt%2B3Z%2B3zqw0P8AbSns/hN8LbbaL74ceBvEQvL/AMSt1KXl/GAEtu3lx4Lc5AIVx9V/CH4UeB/gZ8MdC%2BEHw10ZbDQvDumx2Wm2q8kRoMbmP8TscszHlmZieSa6OtI5XXxFNLG15Tv8UFaML9tEpOK2s5ape9e7RxV%2BPMqyfGVJcMZZRw7i2qVeftKuJUVoql6lSdGFaSXNzU6P7uUn7PlcYzXhfxC/4Jo/sJ/Ez4f6f8NfEf7M/hmHT9ItRb6RPpVn9ivLJByPLuYCs2d3zHLncxJbcSc%2BdQ/8Eaf2eNYjGlfFn44fGfx7okPyWXhvxb8S7mSxtYe0KJAIm2jpy2cV9c0V0VcnyqtLmnQjfba112aVk0ul0zx8D4kcf5bRdLD5pXUW3LWbk4ybu5QlUVSVOUm/edOdNvq2effAD9lL9nP9lrRJvD/7P/wg0bwxBckfa5bC3JnucdPNnctLLjtuY47VzX7L/wDyW/8AaO/7LNY/%2BoV4Xr2avGf2X/8Akt/7R3/ZZrH/ANQrwvXdSpUqFNU6cVGK2SSS%2B5WPlsfmGPzXFzxWNrSq1Z6ynOUpyb85Scm/m/S2x7NRRRWhxhRRRQAUUUUAFFFFABRRRQAUUUUAFFFFABRRRQAUUUUAFFFFABRXM/Cz40/Bz456Jd%2BJvgn8WfDPjHTbDUpNOvtQ8La9b6hBb3kYVpLeSSB3VJVDoWjJDAOpI5FcxoX7a/7GninVta0Hwz%2B1t8MdRvvDekXmreIrKw8e6dNLpdhaFRdXdyiTEwQQl1EkrgJGWG4jIoA9Nr4O/wCCk%2Bqf2H/wVc/Yg1TdjdqPjO1z/wBd10SLH/j1fZXwo%2BNnwZ%2BPPhybxh8Dfi54Y8Z6Rb3rWdxqnhPX7fUbaK4VEdoWlt3dVkCSRsVJyA6nGCK%2BFP8AgsPfyaN/wUQ/Yi1tOFg8e6kkzf3Y5NS8ORsf/Hq8zOJcmXTl2cX/AOT0z7fw4ofWuM8NR/njXj9%2BFxf%2BR%2BiVFFFemfEBRRRQAUUUUAFFFFABRRRQAUUUUAFFFFAGV4g/5C2h/wDYVf8A9JLitWq%2Bp6VY6vbi2v4mZVcOjJIyMjDoyspBU9eQe5qn/wAIfpP/AD96r/4PLv8A%2BO0AalFZf/CH6T/z96r/AODy7/8AjtH/AAh%2Bk/8AP3qv/g8u/wD47QBkfHT4O%2BFv2gvg94j%2BCvjS6vbbTfEuky2U97pcqx3dmzD5Lm3d1ZUnicLLG5VgrxqcHGK8K%2BI3/BKX4JePvhJpHwa0z4ufEPwzpun/AAnvPh1qt34e1LT/ALZruiXSx/aFu5bmymKzySIZXntxC7vI%2B4spCj6M/wCEP0n/AJ%2B9V/8AB5d//HaP%2BEP0n/n71X/weXf/AMdoA8f13/gnr8BvFPizU/FHii713UE1jxvceJ9U0q4vIfstxPP4Oj8Iy2zBYQ/2dtOjD7Q4fz2Zt%2BzEQX4K/sM6b8E/GeqfEWw/aS%2BJev69qXhXRfDSap4kutKmez0rS7q4uLe2iSPT44zu%2B1TxySyK8zq%2BTIJAJB6//wAIfpP/AD96r/4PLv8A%2BO0f8IfpP/P3qv8A4PLv/wCO0AcL%2B1l%2BzNF%2B1j8L1%2BFGofGnxh4KsW1W0vru78GR6Wbi7NtMk8MTnUbG7RUE0cUnyKjExgFipZW0fE/7OvgD4oeEV8AftCW1t8T9C/szT4J9F%2BIHhzSr20uLy1MpbUnhWzRPtUxkUvgCFDBH5MUOZN/U/wDCH6T/AM/eq/8Ag8u//jtH/CH6T/z96r/4PLv/AOO0AeLeBP8Agnp8M/gp8Dz%2Bz9%2BzL8SfFHwq0G48TaxrOqN8P7DRbSe/bUbmWeWB2l06RYo4xIsELwrFPFDbwIJf3YJNd/4Jy/ArUNe0SbwzrviTw14b0vSPDul6j4D0G6tU0jW7TQZzPpMN2s1vJOFgchT5E0PnRqsU/mxqEHtP/CH6T/z96r/4PLv/AOO0f8IfpP8Az96r/wCDy7/%2BO0Aedat%2ByF4O8cfFC6%2BIvxp8eeIPiBYGy1Kz0fwT4vtdMl0TSIL%2BPybuOKCCyie5EkBe3zeSXBWKWVFIEsm7lvBX/BK//gn34F1bxrd6X%2ByP8OptN8d32n3WreG7vwFpLaZA9nbiGEQ24tQqjIaU7t37yWRgRuIr27/hD9J/5%2B9V/wDB5d//AB2j/hD9J/5%2B9V/8Hl3/APHaAPn3wj/wS1%2BAvwk8J%2BHfDn7OHjLxP8LLvwzP4j%2Bwa74Ct9ItrmS21u7hur%2B1ljmsJbZoy9pYrG4hE0aWNuqyDad2hqH/AATT%2BA5tdD8NeE/E/irw54W0rwz4c8P6r4N0W9tfsHiDTtCk36XBePPbSXI8rJRmt5oHljwkrSKqge5f8IfpP/P3qv8A4PLv/wCO0f8ACH6T/wA/eq/%2BDy7/APjtAHkXww/Ymm%2BFPxL%2BIHxP0P8Aao%2BJd5dfEfULu91q11OLQJFtpZYzFbCCddKW6WOzj2pbQvM8UYX5kkLOWryfsBeC9a07xPffEL41%2BPPFPizxPLoEjePtXk0uLU9MOiXkt9pP2WO0sIbKMW93PcTgNbOJGnkWUSo2yvZf%2BEP0n/n71X/weXf/AMdo/wCEP0n/AJ%2B9V/8AB5d//HaAPHT%2BwwLL4c3Pw78LftVfFDRP7b1PVNQ8ba5pr6Gb7xRc3%2BwTSXTzaXIluVSMRx/YktfLTgchSOw0D9lz4XeF/iF4H8f6DHfW6/DnwNdeFPB%2Bhi4VrGwsrhrLfIFZTI04jsLeJZGc7Y/MAGZHJ7L/AIQ/Sf8An71X/wAHl3/8do/4Q/Sf%2BfvVf/B5d/8Ax2gDxv4b/sM3Hwv8VfEbxdoH7W/xSmuviZdahd6w96nh95bK6uI/KgmtrhdJFwPscQSO1illlhjWNQ0cnOWfDX9gXw98OP2UPEf7HI/aG%2BIer%2BFvEPh250VL6/8A7Gt9S02C5jlS6lguLLTYDJczGaSSS4uBNK0rGTdvZmPs/wDwh%2Bk/8/eq/wDg8u//AI7R/wAIfpP/AD96r/4PLv8A%2BO0AVde0XSfDfwwvfDugadDZ2FhoMltZWlugWOCFICqIoHRQoAA9BXm/jj/lIX8L/wDsjPjz/wBO3hCvUT4M0N8LO19MmQTFcatcyI3sytIVYexBFeXeOP8AlIX8L/8AsjPjz/07eEKAPZqKKKACiiigAooooAK8Z/YP/wCSIa5/2Wb4j/8Aqa63Xs1eM/sH/wDJENc/7LN8R/8A1NdboA9mooooAKKKKACiiigAooooAKKK%2Bavj1/wUr%2BH3gf4gt8AP2bfAWp/GX4n7isnhLwfcILfTcHBa/vmDQ2ig8HO5lOAwXINc2KxmGwVPnrSsnourb7JK7b8kmz2si4dzviXFvD5bRdSUVzSekYQit51KknGnTguspzjHzbsn9K1HeXlpp1pLqGoXUcEEEbSTzzOFSNFGSzE8AAAkk9K%2BSR4Z/wCCyXx1O7XPiN8LvgZpUv3YtB0t/EesRA9Q7XBFqT2BQjv7Ur/8EltD%2BJADftX/ALYfxh%2BKEUhBu9D1DxUdP0ecZyR9jtQNoPQ4fpXF/aGMrf7vhpPzm4019zcpf%2BSo%2BoXB/DeXNf2vndGLW8MNCri5%2BnNGNGgn/wBxZJPdtah4s/4KKfFD48ePbr4Vf8E0PhBp/wARZdGuCniX4h%2BIbqS18MWLKMm3inTDXczcAeX8o3BhvXJV4/bW/wCChfw/P2D4w/8ABLjWtQf7sOp/D3xzZajDO/Y%2BSwWSFc93JxX094B%2BH3gb4V%2BELHwB8N/CWn6HommQiKw0vS7VYYYE9FVQBycknqSSTkmtipjgMxmuepipKb6RUeReSjJN/Nyu93bY0q8WcHYeX1XC5FSqYeOilWqV/rEn1nOrRqQgm/8An3Cl7OC92Lk7zfyHqP7TH/BVv4pWT6L8J/8Agnho3gNrwCO28U/EH4j2lzHZ7jgyvZWq%2Bado5xk89j0PSfs//wDBNjwZ4P8AHcX7Qn7Unjq9%2BMPxUOHXxN4ohX7HpJzu8vTrLmK1RTyDgsDkrsyRX0xSOyopd2AUDJJPAFXDKqbqKpiZyqtbc1uVPuoxSjfzak10tucuJ4%2BxtPBVMHk2FpZfTqJqo6HtPaVIv7M69WpUrcj6whKlCX21Je6LRXgHxc/4Kmf8E/fgf4nj8G/EH9qDw8mpPN5UttpPnal9mbpidrNJVg5xnzCuM16B4J/as/Zk%2BI/hC48feBf2gfBuqaNZQ%2Bdf6ja%2BJLYxWiesx3/uevO/biuqGPwFSo6cKsXJbpSjdfK5%2Ba080yytVlShXg5R3SnFteq5v%2BG62O/or5W8Uf8ABX79mE%2BJrjwf8A/BfxG%2BNF/ZHGoj4Q%2BDJdWhtPQvMzRxsp/vRs496p/8PPfidcHz9P8A%2BCXv7RTW45ZrnwhDDJj2QzEn865XneVp2VW/%2BFSkvvjCS/FnG%2BIslTajWUrfyqcl98YSj90mfWtFfIt5/wAFP/i3rkf/AAjvwz/4JdftCXfiW4bbY2vijwrFpGmM3rLfvK6Qr7lcVHa/DD/gsl8WnPjrxF%2B1B8O/hIwGbHwN4f8ABceuxsp/hu7u5YMJB3MBKHtjpS/tihUdsPCdR/3YtJernyL5asn%2B3sNVdsLTqVn15YNJesqipxv5K7Pr6ivkkD/gtr4D%2BQN%2Bz549tE6Ow1TS72T6gZhFUNf8cf8ABY/40xR/CTTf2fvBPwfW9YrqvxRHjCDWxZ2%2BMMLSyUB/tB/hMmU65KnDAebRSs6FXm6Lker9U3FeraQPPYxVnhq3N0Xs3q%2B3MpOK9XJJbtn1Qfih8NR8Qh8JT8QdE/4So6eb4eG/7Ui%2B3/ZQQPP8jd5nl5IG7GPet2vjTXv%2BCM/wd0z4bpqvwp%2BI/iXTPjPYal/bWn/GrU9TkudWuNUC4LXJJ2vbOPkaEDG0/wAR3Fszwt/wVo8XfDmwm/Z6/aM/Zp8XX/7QWkzLaDwR4L0d7i38RqQdmp2txjy4rR8ZZmJMfOFbaQMlm1TCStmEFTT1i03JP%2B62l8fklaX2b2aMVndXBT5c0pqkpawabnF/3G1H%2BIuyVp/YbaaPt6ivjuw%2BAn/BTj9q5W8SftBftMj4HaBd/wDHv8PvhZBFcanDEf8An41Z8lJh0PkhkPBwp4rM8Wf8EuvGv7O8sPx%2B/YF%2BN/ilfijpqk6tH8Q/EkupWnja24Js74vtCNwfLkQKFZj90kSJbzHGyj7SnhZOC7uMZNd4w1bfW0nFvbeyLlm2Yyj7Wlg5umtXzOMZtd409ZN9bScG9kk7I%2B16K%2BLdO/4LK%2BEdW0CL4c6N%2BzV481D46rcSWOofBi00uQXNjdxhd8st2yeUln8wYT8naQxQDJFe/wDjn/wVg/ZtZP2i/wBpL4V%2BF/GXgO/BfxL8P/hzEZNW8G245W4ikb/j/wAKSZl3MAVyhRNzBPPcBJc1PmnFfE4xbUP8Wis11ik5LVuKSE%2BJsskuajzVIr4pQhJqC/v6JprrFKUo6uUUkz7ary74L/safs6fs%2BfFTxn8Z/hN8PLfStf8eXKza/cxOSpIJZliQ8Qq8hMjquAzkE/dUDf%2BA/7QHwf/AGmfhvZfFj4IeOrLX9DvhhLm0f5oZMAtFLGcNFIuRlHAYZHHIrsq9FQwuK5KySlbWL0drq10/Ndj6vAZzjaGBq08FiJKjiIpTUJPlqRUlOKkk7SipJSV76r5BRXy58VP%2BCmdgvxH1r4F/sjfs7eMPjJ4y0G%2Bax1j%2BwoVs9F0y7XhobrUpv3cbqTggBhkMCwIIrEj%2BBP/AAVb/aLX7X8bf2rPDfwd0a45fwx8KtF%2B2agIz0STULo5ikHd4dyk9B6cUs2oym4YaEqrWj5V7qfnOVo%2BtnI%2BannlCc3TwlOVaSdnyL3U1o06kuWGj3s5NH19RXx5P/wTt/ae%2BAb/APCZ/sWft6eNZdYI8zVfD/xkvjr2la3L3aRwiyWrtxukiUsQABirVr%2B0H/wWDu4F0R/%2BCevgS1vrf93ca7cfFWBrG7YH/WxQIpmjjPUK7Fh3pLNKlJ8uIoTi/wC6vaJ%2Bjh%2BTUfVkrOatF8uKwtSEunLH2sX6Sp7PupKPk2fSnxd%2BMHwz%2BAvw81L4rfF7xjZ6DoGkQebfajfSYVR0CqBku7HCqigsxIABJxXgn/BMv442f7Sb/HP436X4L1jw/ZeIPjNDNp2m6/beTdm1Twl4cigndP4RNEiTqMn5JV5PU4fgL9h746ftK/Fuz%2BPv/BS/WvD2rJ4euA/gf4TeF5ZZdA0yQAZvLnzQDd3BOcBtyKO5BCJ6t%2By6Avxt/aNVQAB8ZrHAH/YleF61wlXG4mq6s48lPZRa95/3pa%2B6u0dX1k1ojfBV8wxdd1qkPZ0rWjGS9%2BT/AJpavkXSMNXreTWkV7NRRRXonqhRRRQAUUUUAFFFFABRRRQAUUUUAFFFFABRRRQAUUUUAFFFFAHyr%2Bwt8UvDUPxZ%2BO2nQ/C/4i6FaeIPjLb33ht9b%2BD3iHSbW6sm8O6JYrNHJdWEUYjFxY3KE5AQRhmwjozQ/ET4Lx/tDePP2lvGXx18OeLdM8JTfDd/hb4cfStAuJtRm0mawe71jUtOt1hkkuGnnv4rddkcnmPoybUcY3fWFFAHg/7DXjH4yeKbLxpY%2BPNY8Za54V0vxBBb%2BAPFHxF8Ejw9repWpsoGuBPZfZLMhIrkyxxzG1gMigja4QSyfHn/AAWc034r6J%2B1b8FfHXjbxp4ev9C0e41DUvDVhpXhiezu9ORPEPhJJBdXMl7Ml2T5iYZIbcLg5Dbht/Tuvzn/AOC%2BcUkOkaJ4it0LS6L8LfEF/EB1yni3wIpI/BjXk57/AMibEPtBv7rP9D9A8KXfxLyiH8%2BIpw/8Gc9P/wByH6MUU2GWO4iWeFwyOoZWHcHoadXrH5%2B1ZhRRRQAUUUUAFFFFABRRRQAUUUUAFFFFABRRRQAUUUUAFFFFABRRRQAUUUUAFFFFABRRRQAUUUUAFFFFABRRRQAUUUUAFeM%2BOP8AlIX8L/8AsjPjz/07eEK9mrxnxx/ykL%2BF/wD2Rnx5/wCnbwhQB7NRRRQAV4l%2B1t4y%2BJw8d/Cn4FfDH4mX/gqT4g%2BLb611bxXpFhZXN7a2lnpF7fGK2W%2BgntxLJLBCC0kMgESzbVDFXT22uO%2BNXwG%2BGP7QXh6x8NfE7StQmj0vVE1LSb7RtfvdKv8AT7tY5IhPbXljNDcW7mKaaJjHIpaOaRGyrspAPno/tCftMfED9gz4d/FXQNS1qDWNQ8R2%2Bm/EjxR4B8JJqep2unW9zc2t3qenac0FysrSzW8LeWILgxw3EjLG5jFeQaf/AMFAP2j/AIjeHPBHw%2BsJPivazeV8R73xJ4l8EeDtCXxJe2HhnxDDpFvNLbaxGLG2Z4bgTXUSQ%2Bf56LDBAhZkT7Q/4ZW%2BDdv8MI/g3oFn4i0Lw5b2VhZ2On%2BF/HWr6S1hBZoEgjtpbO6iktRtUB/JZPN58zfk5yfFX7DP7MPi/wCH2gfDDUPAF7Z6R4Ys7q00gaD4p1PTLlba6wbyCW6s7mKe5iuWVXnSaR1ndVeUO4DAA6/Tfi34Lk%2BC2n/GvT9V1PXdAu9AttUtL/RtAur66v7WaJJI5o7S0heaRnV1bZHEW5%2B6Mceb/wDBOnxDYeLf2br7xTpVvfRW2o/Fv4h3NvFqelz2VyiP4z1pgJbe4RJoHAPMciK6nIZQQRXtWiaJo/hrRbTw54e0u3sdP0%2B1jtrGytIhHFbwooVI0VeFVVAAA4AAFeR/sH/8kQ1z/ss3xH/9TXW6APZqKKKACiiigAooJAGScAdTXyJ8Yv24/it%2B0L8RL/8AZb/4Jq2NlrOt2MvkeMvizfx%2BboPhMHgrG2Ct7d4ztjXcoI5DgPs5MZjaGCgnO7b0jFayk%2ByXXzeiS1bSPoeHeGM04mxM4YVRjTprmq1ZvkpUYXtz1JtWir6RS5pzlaFOE5Oy9z/aR/a4/Z5/ZK8Kp4s%2BPXxLsdEjuCV0%2BwOZr2/fpsgt4wZJTkgEquFyNxA5rxB/%2BCqHiHxmpj%2BAH/BPX48eLWYf6Pf6h4SXSNPmPbFzO5wPUlOK83uLH9hj/gnr8TodV8bat4m/aC/aT1hl8lTF/bPiGSYjI8mDJi0yEAkrkhxGSAXAxXpR/wCClfx0sx/xNv8Agln8dkPpZ6VbXAz/AMBkFeDUzOvUqONSuqVvswg6sl/imouKl5JO3mduK4p8IuG6zwlKjUzKrD46k51qNHm7RpUKdSpy%2BdatCclq6dNWRmv%2Bzd/wUP8A2z0M/wC1v8bovhB4Kuh8/wANfhVdh9SuIj1ivdVbODjKssIaN1PQGva/B3gX9jv/AIJ3fBk2eiQ%2BFvhx4TtSv2rUL%2B8SA3U2MBpp5W33Ex6DczMeg4wK8fk%2BNn/BXL48RtD8Jf2T/BHwh02cER638T/E7aje7D/y0S0sl/dSDskuRkc8Vq/Cv/gll8N38YW/xm/bK%2BIOrfHLx7H80WoeMkX%2BytOY8lbPTVJghTIBwwfkZAU1eGj%2B858JRlOo96ta608rrmt/dhCC7s8LPfEribibCLLsBh1Qwid1ShB4fDpraUo61q80tp1XOX96Fylf/wDBYL4E%2BL9Rk0L9lb4P/Ez4zXcUhSWfwJ4NnNjAw6%2BZc3IjVR6MAwJxzzmorz/gpt8bIbWSC0/4JZfHyTUGQrZwSaFAtu8p4VZJhI3lITjL7W2jJwcV9Zabpmm6NYRaXpGnwWlrAgSC2tohHHGo6BVUAAewqevQ%2BqZrPWWKs%2B0acbfLmbf3v5HyX1HO5q88ZyvtGlCy9OZyl82/kfGlj%2BxZ%2B1j%2B2teR%2BM/%2BCh/xcufDHhwt5ul/Bf4aas9tbW/906hfRnfdSjg7UOwMNysAStazf8EU/wBiFBvsYPHlrMOYrm3%2BIupB4m7MuZSMj3Br61opLI8setWHtJdZT96T%2Bd1bySSS6IUeG8nkr16ftZveVS8pP5tq3koqKXRHyQP%2BCY3xa8Gn7J8FP%2BCmnxx0Swf5XsPEGrwa2scfdYTOimL2PJFI/wDwSE%2BHPjYbP2iv2sPjj8S7aUj7Zo3iT4hSx6dOO6%2BRbohVT3Af8a%2BuKKf9h5W9HTuuzlNr7nNr8H6Ff6uZK9JUrrs5VHH/AMBdRx/BryOA%2BEH7K37N3wC8My%2BEPg58EPDXh%2BwuIfKvI7DSYw92npPIwLz/AFkZjXAeOv8Agll/wTz%2BI3iy38b%2BKP2TfCR1C3n84Np1o9lDM/cyw2zRxT57iRWB7179RXXPAYCpTVOdKLitk4xsvRW0O2pleWVaMaU6EHGOycItL0XLZfL8TL8G%2BCPBfw68O2/hH4f%2BEdM0PSrRdtrpmj2Edtbwj0WOMBV/AVqUUV1RjGKSSskdsYxhFRirJdgooopjCiiigAqP7Ja/avt32aPz/L8vztg37M52564zzipKKACiiigCrDoei22rT6/b6Rax39zEkVzepbqJpUTOxWcDcwXccAnAycdatUUUkkthJJbHxT%2B1H8Kdf/4J7fGSb/goR%2BzH4OeXwdqO2L48eANGhCpd2e4ka3bRDCrcQFmaTGAylmO0NK9dj%2B2p%2B269t8D/AAj4S/Y61608Q/EH44bbD4YS2cuUggkQGfVX4ykdvGxYlh8r43LhHA%2Bobq1tb61ksr22jmhmjKTQyoGV1IwVIPBBHBBr5x/ZS/4Jg/AT9kf46eJvjf4CvdRvJNUhe18LaPqMm%2B28KWUsrT3FrZAk7Ukmdm7FVO3nc7P4NfAY6jUlSwbUadV%2B9rZ02/ilBf3ldW%2BzN860uj5nE5ZmOHqyo5e1GjWfva2dJv45U1/fV1y6ctR860uj0f8AZE/Zi8Ffsg/ATQ/gf4JdrgafEZtW1aZf32qX8nzXF3KTklnfJGSdqhVBwor0uiivbo0aWHpRpU1aMUkl2SPocPQo4WhGjSjaMUkkuiW39f5hRRRWhsFeM/sv/wDJb/2jv%2ByzWP8A6hXhevZq8Z/Zf/5Lf%2B0d/wBlmsf/AFCvC9AHs1FFFABRRRQAUUUUAFFFFABRRRQAUUUUAFFFFABRRRQAUUUUAFFFFABRXk/7KX7QfxA%2BO6%2BP9H%2BKXwn03wfrvgDx63hu90/SfFLavBcA6Zp%2BoxzidrW2KsY9QRGj2EK0bYdwQa818cft8fF74K/Evx/4S%2BN/7PHhqLSfAXwmufHF5qXgr4i3Gq3Tqbt7fTrB7a50qzSKa9Nve7CJnVWtGByDuAB9RV8E/wDBbLRv7d0S6sdm7Z%2Bzt45uMY/546/4Klz/AOOV9R/s5fH3xv8AFTX/ABh8NPi/8MdO8I%2BM/BN7Zpq2l6L4lfV7Ge1vLVbi2uYLp7W1dwf30TK0KFZLeTG9Cjt4P/wVL0b%2B3tW1TTwm4j9k34rTKuOpiuvCsg/VBXBmsPaZXXj3hP8A9JkfWcBYn6nx1lVf%2BXFYd/8Alel/mfVHwd1n/hI/hH4W8Q7932/w5Y3G71326Nn9a6OvMP2JNZ/4SL9jP4Sa8Wybz4Z6FMx/2m0%2BAn9c16fXRhZ%2B0wtOfeMX98U/1PHz3DfUs8xeH/kq1Y/%2BA1akf/bQooorc8sKKKKACiiigAooooAKKKKACiiigAooooAKKKKACiiigAooooAKKKKACiiigAooooAKKKKACiiigAooooAKKKKACvGfHH/KQv4X/wDZGfHn/p28IV7NXjPjj/lIX8L/APsjPjz/ANO3hCgD2aiiigAoorzH9o/48%2BLfhHe%2BDfA/wu%2BHVh4q8YePPEEumaBpWseIX0qxjWCxub24ubm6jtrl4o0itio2QSM0ssS4VSzoAenUV8/6j%2B3M9/8As2/Dr40%2BAfhat1r3xL8Q2Xh7R/DOv6%2BLC20/VpTMs8F5exwz%2BWkL2txHvjhlMkioiKTItcb8Tv8Agqh4f8Bfsi/8NCaD8Ko/EXiqLW9d0m78DaZ4mUxRTaHfT2ms3AvvIObOA20hScwL5rT2kZSN7hVUA%2Bsq8Z/YP/5Ihrn/AGWb4j/%2BprrdezV4z%2Bwf/wAkQ1z/ALLN8R//AFNdboA9mooooAKKK%2BJf%2BCpv/BS7Sv2fon/Zp%2BDnxC03SfHOqWgfxF4quyXg8Gae65NwyqC0t4658m3UFySHxygfizDMMNlmFlXruyX3t9EvN/ctW7JNns5FkeKz/HewpyjThGLnUq1Hy0qNKOs6tWb0jCC1b3k3GEFKc4Rl51/wVx/4KFSavc6n%2Bxx8CdX1CS2iuIdP%2BJOt%2BHnzd3E85Kw%2BHNPYBs3lwQyyMA3lRh8q5V0HZfBP9if9vXxd8MtL%2BGOtfFDw9%2Bzj8ObW3CweA/g/a/aNadCBu%2B1apNkpck5LSxbt55YE1z3/AASO/wCCf0UU2mfte/F7wlfWNvapM3wp8Ma8u67to5sefrt/n7%2BoXeA2Tny4wiqdqxCP9Dq%2BdyzLsTms5Y/HNrn0jBNxtDom1aVnva8eb4pbxjHPiTPKHEmGhlWWSqUsoou9OF3Tnip2tLF4lRalzVNqFFySw%2BH5I61J1ZPyr9l/9iv9nP8AZA0GbSvgp4Bitb6951jxHqDm51TVHJ3M9xcv875bLbRhAScKM16rRRX1VGhRw1JU6UVGK2SVkeJh8Nh8JRVKhBRitklZfh/w76thRRRWpsFFFFABRRRQAUUUUAFFFFABRRRQAUUUUAFFFFABRRRQAUUUUAFFFFABRRRQAUUUUAFFFFABXjP7L/8AyW/9o7/ss1j/AOoV4Xr2avGf2X/%2BS3/tHf8AZZrH/wBQrwvQB7NRRRQAUUUUAFFFFABRRRQAUUUUAFFFFABRRRQAUUUUAFFFFABRRRQB4P8As4fs4ftNfBf4gfELxh42/aD8CeILX4heOofEl7Y6V8Lb3TpLRl0%2By0%2BSBJZNauAQ0FhblWKfLIZGIZWVEl8UfsQ6F4/0H47aV478e3V1d/G7bbPqllYrDNoGnw6bFZ2dtBudxIYJVnuw7ABpruXKBflr3OigDyz9nL4BeOPhX4g8YfEz4wfE/TvF3jPxte2T6rqmi%2BGn0ixgtbO1W3traC1e6unQD99KzNM5aS4kxsQIi%2BJftW/Ar4UaR%2B1Df654J%2BF3h7SNd8bfsy/E6PxLrGlaLBb3eruLnwukbXU0aB7gr5j4LliNxx1NfYFeF/F/SF1/9ub4f6E4BF78C/iFbkH/AG9T8Ir/AFrOtD2lGUO6a%2B9NfqduW4n6nmVDEfyThL/wGcJf%2B2kH/BLnWf7d/wCCePwfvt%2Bdngezt8/9cV8rH/jle918s/8ABFXV21r/AIJjfC24cndDZ6lbMD1XytUu48fkgr6mriyeftMow8u9OH/pKPpvEfDfU/EPOKH8uKxC/wDK1R/qFFFFeifGBRRRQAUUUUAFFFFABRRRQAUUUUAFFFFABRRRQAUUUUAFFFFABRRRQAUUUUAFFFFABRRRQAUUUUAFFFFABRRRQAV4z44/5SF/C/8A7Iz48/8ATt4Qr2avGfHH/KQv4X/9kZ8ef%2BnbwhQB7NRRRQAV5h%2B0h8BvF3xcvfBvjn4W/EWw8K%2BMPAfiCbU9A1XWPDz6rYyrPY3NlcW1zax3Nq8sbxXJcbJ42WWKJssoZH9PooA8E0/9jjxH4d/ZPj/ZW0nxb4F1%2Bwt7O1jWX4j/AA0bW7O/m80z3099ZLfwJcNPcM8yKjQrCzDiQKK828b/APBGX4AeNv2ZZvgmfF2v6P4lm0DWNPHi/wAMa7qmjWqPqmoSajdj%2BytOvre2ktftMpMdrJvWOOOGPcwjBr7EooAwtW%2BGXgLxJ8PD8KPGXhi28ReHZNOSxu9L8Tg6ol7AihQtwbsyNck7QWaUuzH5mJJJryj/AIJ0%2BGPDXgr9m6%2B8H%2BDfD1jpGkaX8W/iHaaZpemWiW9taQR%2BM9aWOKKJAFjRVAUKoAAAAFe6V4z%2Bwf8A8kQ1z/ss3xH/APU11ugD2aiiuV%2BOPxf8I/AD4PeJfjX48ufL0nwxo0%2BoXu1gGkEaFhEmSAXdsIo7syjvUznClBzm7JJtvslqyKlSFKm5zdkk232SV2/uR43/AMFI/wBti9/ZL%2BFlj4W%2BFekHXfit4%2Bu/7H%2BG/huCMSSTXbkIbp0PWOIupweGdkU4BZl8z/YR/wCCOHw7%2BB2tR/tDftVav/wsr4tajcHUr/UNXPn2Wm3sh3u0KPnzpg5/4%2BJOcqCix45i/wCCY/wN%2BInx%2B8cXv/BVL9rKzSTxh42szF8NtCfLw%2BF/D7bhF5IYfK8yMSGABMcjOTuuJAPt%2Bvn8JhI5xWjmGKjeK/hQf2V/O1tzy3V78seVbtnND65jKHLiW40ZOMlSvo2tYTqpaSmr3jGXNGk3pH2rlOJRRRX0R2BRRRQAUUUUAFFFFABRRRQAUUUUAFFFFABRRRQAUUUUAFFFFABRRRQAUUUUAFFFFABRRRQAUUUUAFFFFABXjP7L/wDyW/8AaO/7LNY/%2BoV4Xr2avGf2X/8Akt/7R3/ZZrH/ANQrwvQB7NRRRQAUUUUAFFFFABRRRQAUUUUAFFFFABRRRQAUUUUAFFFFABRRRQAUV8X/APBMP4s/sS%2BGfH37QPwm/Z4%2BLHwzt9MT47xvougeFfEdgUYXHhzQo98UUMh3GW7iu1LAEvNHMMl1fHz18FINE8f%2BG/iv8E/jZrnwi0rxt8SPhZ8SNO%2BL3xEtNEI8SfD9vtv2ZW1%2B9muf31lKk4lt4WFpHHDZRJD50KecgB%2BqteM%2BOP8AlIX8L/8AsjPjz/07eEK4b/gmH4n8BXXg/wAdfDz4T%2BGfhO/hnwz4sii0/wAbfBDwxHpPhzxPLLp9tJLNHBHNOhuYSVt5nS4mU%2BUg3KwaKPYv9S%2BK93/wU28F2fjbwX4e0/Qrf4PeOB4a1HSvE895d36HVvCXmNc20llCloRhMBJrgNuOSu0bgDkv%2BCK/%2BgfsSr4R6f8ACP8Aj3xHp23%2B7t1KZ8f%2BRK%2BtK%2BS/%2BCRv%2BgeB/jb4R6f2D%2B0n4tsAvoBJA4/D56%2BtK8nItMnoLtG33OUf0P0DxV18Rs0qfz1ef/wZTo1f/cgUUUV6x%2BfhRRRQAUUUUAFFFFABRRRQAUUUUAFFFFABRRRQAUUUUAFFFFABRRRQAUUUUAFFFFABRRRQAUUUUAFFFFABRRRQAV4z44/5SF/C/wD7Iz48/wDTt4Qr2avGfHH/ACkL%2BF//AGRnx5/6dvCFAHs1FFFABXH/ABp%2BPPwx/Z%2B8O2XiX4narfwx6pqiabpNlo2gXuq32oXbRySiC2s7GGa4uHEUM0pWONiscMjthUZh2FeJftbeDficfHfwp%2BOvwx%2BGV/42k%2BH3i2%2ButW8KaRf2Vte3VpeaRe2Rmtmvp7e3Mscs8JKyTRgxNNtYsFRwDrPEP7U3wH8NfBrRPj9deOvtnhbxMtkfDV5oml3Woz6u12AbaO1tbWKS4uZHByI442cAMSoCsRgeKv28P2ZPBvgHSvilrfizXW8PatZ3d3/a9h4C1q7h02G0k8q7fUWgtH/soQSB0l%2B2eR5TRSB9pjcL5N4f/Z0%2BInh39iLwl8M/Gfwk8eS%2BNPA%2BsWviPSp/hpregre2GrXM9xPKNPk1W4S0lS1W8mtZBdoscsRfYkmQK8%2BvPgN%2B2J8Of2TNB/ZPh%2BBfjrxZo/xK8U%2BLNc%2BM%2BtaB4q0B9Y0zTNU1a5vzoyPe39lE13dJemCe7t8xQhLloFVngaMA%2B94J4LqBLq1mSSKRA0ckbAqykZBBHUEd68c/YP8A%2BSIa5/2Wb4j/APqa63XpOr%2BGr7Xvh63hfw1r%2BqeDJptPSG0vdHhsnu9KwowI1uIri2LKBtwySJ6Z4NeUf8E6dJv9B/ZuvtE1XxPfa3c2fxb%2BIcNxrGpxwJc3zr4z1oGaVbeKKEO5G4iONEyTtVRgAA90r4d/4Kr6lqn7T/xn%2BFP/AAS%2B8G388aeOtWTxH8SZrVyrWvh2ydn2k7So82SKQoT0ltogfvivtjXNb0jwzot54j8QalDZ2Gn2slzfXdw4WOCGNSzyMTwFVQST2Ar4s/4JNaFq/wC0T8Q/il/wU/8AHmmyRXXxO1uTSPAMFygD2XhuykESKNrYBkkhRXGOXs94/wBYa8TOL4p08vj/AMvX73lTjZz/APAvdh/28zzswSryp4XdTd5f4IWlK/lJ8kPPmku59qaPpGleH9JtdB0PTobSysbZLeztLeMJHDEihURVHCqFAAA6AVZoor2kklZHpNuTbe7CiiimIKKKKACiiigAooooAKKKKACiiigAooooAKKKKACiiigAooooAKKKKACiiigAooooAKKKKACiiigAooooAK8Z/Zf/AOS3/tHf9lmsf/UK8L17NXjP7L//ACW/9o7/ALLNY/8AqFeF6APZqKKKACiiigAooooAKKKKACiiigAooooAKKKKACiiigAooooAKKKKACiiigArxnxx/wApC/hf/wBkZ8ef%2BnbwhXs1fNHx3%2BJdv4J/4Kqfs6eELqUAeMPhb8SdNgVj1miuPC16CPfZayD8TUTnGnHmltovvaX5tGdSpClHmk9Lpfe0l%2BLRhf8ABNL/AIlHxq/ak8I9PJ%2BPV7qO3/r7t4Xz%2BO2vrSvkv9iE/wBk/wDBQz9rnwl08nxF4U1EL/19aS7k/wDjtfWleZkmmXqPaVRfdUmfonid73F0qv8Az8oYSf8A4Hg8K/0CiiivWPz8KKKKACiiigAooooAKKKKACiiigAooooAKKKKACiiigAooooAKKKKACiiigAooooAKKKKACiiigAooooAKKKKACvGfHH/ACkL%2BF//AGRnx5/6dvCFezV4z44/5SF/C/8A7Iz48/8ATt4QoA9mooooAKKKKACiiigArxn9g/8A5Ihrn/ZZviP/AOprrdezV4z%2Bwf8A8kQ1z/ss3xH/APU11ugDyn/gtB8ZPEnhH9la2/Z5%2BGU27xr8a/ENt4N8P2yTBXaK5dVumIPWMxkQMe32pTX0n8D/AISeGfgL8HPC/wAFfByY0zwtoVrplo5jVWlWGNUMrheN7kF2PdmJ718UeFdW/wCG4v8AgtvqOtQv9r8F/s1eHZLO0xh4X1%2B5LRyMQejhvOXP97TkNfoBXhZZL67jsRjel/Zw/wAMH7zXrNv/AMBOPC0nOTxkv%2BXmkP8Ar3GTin/2/NVJecYx8gooor3TsCiiigAooooAKKKKACiiigAooooAKKKKACiiigAooooAKKKKACiiigAooooAKKKKACiiigAooooAKKKKACiiigArxn9l/wD5Lf8AtHf9lmsf/UK8L17NXjP7L/8AyW/9o7/ss1j/AOoV4XoA9mooooAKKKKACiiigAooooAKKKKACiiigAooooAKKKKACiiigAooooA8n/ZS/aD%2BIHx3Xx/o/wAUvhPpvg/XfAHj1vDd7p%2Bk%2BKW1eC4B0zT9RjnE7WtsVYx6giNHsIVo2w7gg15X4U/4KieFPFXhD4m/F/T9E8HXvhD4faBqepW1jonxJivPFV99lnaGDz9HFqqWEV4UdoJJLpmKvCXSMyMI%2B0/Zw/Zw/aa%2BC/xA%2BIXjDxt%2B0H4E8QWvxC8dQ%2BJL2x0r4W3unSWjLp9lp8kCSya1cAhoLC3KsU%2BWQyMQysqJ5xD/AMEm9GvNEv8A4ba78XraLwXZeEvF2g%2BBNM8P%2BEVsdR0aLX72K8nlubxrmVL57eWGMwgQQKSoaYTuA4APbP2cvj743%2BKmv%2BMPhp8X/hjp3hHxn4JvbNNW0vRfEr6vYz2t5arcW1zBdPa2ruD%2B%2BiZWhQrJbyY3oUdvkf8A4LAeKdQ%2BGP7ev7IPxqtTstPCmreIJdbnzjydPutQ8N2U7flcgfjX1x%2Bzl8AvHHwr8QeMPiZ8YPifp3i7xn42vbJ9V1TRfDT6RYwWtnarb21tBavdXToB%2B%2BlZmmctJcSY2IERfkn/AIKyfsp/CzxJ4s8Q6p4A%2BFnh/SfEuu/s7ePNc1rWtH0WC3vtWuNM1nwfewtPNGgknceU6qXJI8xgPvGvOzeNSWV1uT4lFtesbSX/AKT%2BJ5OfQqTyav7P4lFyXrC019/Jb5nqv7PP/Ek/4K6/tE6Z0/tvwV4R1HH97ybeS3z%2BuK%2BtK%2BEf2b/ixFrv/BSHwF8ZNZcJafHf9mPT7jR7hTxNqlpItzc25H95IWZj6YxX3dXPklSFTD1OXb2k38pNTX3qaZ%2Bp8fVI4utleOp6wr4DBSi%2Bj5aMqT%2B50uV9mrBRRRXsnwQUUUUAFFFFABRRRQAUUUUAFFFFABRRRQAUUUUAFFFFABRRRQAUUUUAFFFFABRRRQAUUUUAFFFFABRRRQAUUUUAFeM%2BOP8AlIX8L/8AsjPjz/07eEK9mrxnxx/ykL%2BF/wD2Rnx5/wCnbwhQB7NRRRQAV8xf8FHz8IxrPwb/AOGozoH/AAp7/hYF3/wnv/CYeT/Yfmf2JqP9n/2l5/7n7P8Aatm3zv3f2n7L/wAtPLr6dooA%2BBTH4Z8a/wDBL34b2fxU%2BKngK0sPB2raRqeteG/jN4nGn6Xq%2BhmacaVputTTJK9uJrR7OZDPDKXmt4g8b5YV4fKvgRPgR4Ym/bjstAtPAk/gL4qz/B20IkGnW9%2B/iFH0OPSPOVHN4umNGNJKIlybcObdIzvRf1qooA4XwLd/G2x/Zx8PXeoaDp2qfEGPwlYHUdP1zVnsLafU/s8fnrLcQ29w0Q8zf8ywyc/w15j%2BxB4u1rwp%2Bx14l8efEHS7DT9Q0z4j/Eq/1mz03UXu7W3lj8X65JKkc7wwtNGpVgHaKMsACUXOB9EV8eX3iNPCf/BKv4%2B6603ltFrfxiWF84xK/ijxAkf/AI%2By1hiavsMNUqfyxk/uTf6GGKrRw%2BGqVXtGMn9yb/QwP%2BCAfwoHhn9h4/HLWbxr3X/ij4o1DWdWv5uZXEVxJaIjHv8APDNLn1nNfcVeBf8ABLLwavgT/gnd8H9ERNon8EWmo4x3uwbs/wDo%2Bvfa4cjoLDZNh6aW0I39Wk397k2aUeeOFo05P4KdOHyhTpxS%2BVnfzu3q22UUUV6pYUUUUAFFFFABRRRQAUUUUAFFFFABRRRQAUUUUAFFFFABRRRQAUUUUAFFFFABRRRQAUUUUAFFFFABRRRQAUUUUAFeM/sv/wDJb/2jv%2ByzWP8A6hXhevZq8Z/Zf/5Lf%2B0d/wBlmsf/AFCvC9AHs1FFFABRRRQAUUUUAFFFFABRRRQAUUUUAFFFFABRRRQAUUUUAFFFFABRRRQAV4d8WND03xP%2B3b8PPDWs24ms9Q%2BB3xAtruI9Hik1TwijL%2BIJFe414z44/wCUhfwv/wCyM%2BPP/Tt4QpNJqzE0pKzPgPwrP4k8Af8ABNr4dfHOGOW58U/sifG%2B90rXzEuZZdMXUTBe2wHUBoLm2B9EiJ96/VrSdV07XdLttb0e8juLS8t0ntbiJsrLG6hlYHuCCCPrXxX8CPhloGr/ALV37Yf7Eni6PZofjpbPxJZR7cl49WsHhvplHZlnCYPqAeMV6H/wSS%2BJuv8Ajb9jTSfh347kx4p%2BF2q3ngfxNCWyYrjTpPKjXnk/6OYOT1Oa%2BUyJvC11Re0ouP8A2/Qk4P5um4P5H1OSN514OYZPWrlVeeHl39hXlN07%2BUa9GUf%2B4vnr9M0UUV9YfLhRRRQAUUUUAFFFFABRRRQAUUUUAFFFFABRRRQAUUUUAFFFFABRRRQAUUUUAFFFFABRRRQAUUUUAFFFFABRRRQAV4z44/5SF/C//sjPjz/07eEK9mrxnxx/ykL%2BF/8A2Rnx5/6dvCFAHs1FFFABRRXiX7W3jL4nDx38KfgV8MfiZf8AgqT4g%2BLb611bxXpFhZXN7a2lnpF7fGK2W%2BgntxLJLBCC0kMgESzbVDFXQA9tor458T/tUftFeIv%2BCf3w1%2BInhbXLr/hPfFXjGw8OalJ4QsdOGqa00V7Pb3kmkxakGsI7iWO0luVF0fIjh80lhsVq8c8cftn/ALc2o/AzwuvgXxl4xvfFWn%2BGviPe%2BKbLwrofhw69Y3Oja0lnpx1qK%2BhNkYIYt8V8ulgzT3I3WCywZagD9Ka/PH9sDxJJ4Y/4IrfG28gm2SXPxa8bWac4LCb4kahEw/74ZvwzX3DpPxT0eD4J6d8YdXvJtXsp/D9rqUtz4T0K91A3aSxI/mWtrbxyXMqtu3Kioz7SMjg1%2BbX7cHin/hPv%2BCTen%2BH/AAxBqEUXxG/at8Uabb2%2Bo6XcWVzsm8Z%2BIbhElt7hEmhfMK5jkRXUjDKCCK8jP5unkmJa35JL71Zfmedm9OVbLKtKLs5rkT7ObjTX41D9Hf2a/B8nw9/Zz8AeAJl2vofgnStPcehhs4oz/wCg12tIiLGoRFAVRgADgClr1KVNUqUYLZJL7kl%2Bh61aoqtaVS1uZt27XbdvlcKKKKsyCiiigAooooAKKKKACiiigAooooAKKKKACiiigAooooAKKKKACiiigAooooAKKKKACiiigAooooAKKKKACiiigArxn9l//kt/7R3/AGWax/8AUK8L17NXjP7L/wDyW/8AaO/7LNY/%2BoV4XoA9mooooAKKKKACiiigAooooAKKKKACiiigAooooAKKKKACiiigAooooA%2Bef2BtM1Xwr4j%2BPHw3uvH3ivxBp/hj41my0Sbxh4qvNYura3k8NaDdtCs95LJIsfn3M8gjBCIZWCqo4rxLwt4E/aS8HW/xQ/ZH8Q%2BMtXt/iz8Uvhf491r4Z/EWH49a/q9jbxjUFhs2ktLlVTQprc6vpixvZRyrtgl2yAoEb6p%2BHn7GX7H3wj1y58TfCj9lH4a%2BGNSvbyK7vNQ8PeBdPsp57iNi0czyQwqzSKWYqxJIJJBGateHf2TP2V/B9n4k07wl%2BzP8P9Lt/GMDweL4NO8GWMCa5E%2B8vHeKkQFyrb3yJNwO9s9TQBwX7CfiWSyg8d/ArxD4V1fSvE3gPxJbw%2BIkv/ixq3jS3me60%2B2uYpLbUdVxcqhiZN1s0cQjfcwQiUSSVb/xp4k8Q/8ABTbwX4d1b4R%2BIdCs9J%2BD3jhLDXtVudOe01oNq3hLL2y213LOgTaM/aIoD842hvmx7L8L/hB8Jvgh4XHgf4L/AAv8O%2BENFFw840fwvokGn2olfG%2BTyoEVNzYGWxk4Ga878cf8pC/hf/2Rnx5/6dvCFAHk/wDwUV8JeLv2dPiX4X/4Kc/CDSri8u/A1r/ZHxT0S0%2B9rPhSWTdI4XvJbSHzlPAx8zHbHiub8B/FTwn%2Byj%2B3pe/EVtRik%2BDn7U9vpmpeEvFdtJmxs/ES2%2B3yZCQPL%2B2RsJAx%2B8%2BB0Vyn23qulabrml3Oia1YQ3dneW7wXdrcRh45onUqyMp4ZSCQQeCDX52W3w4%2BGH7Ptz4p/wCCTv7ZK3UPwi8d6hJd/AbxvfH9zYPMxl/sw3LZENzbzndCX%2B/uIbiREPyuaYepg8XGvSaSlLmTfwxq25bS7Rqx9xvpNRl117uEs%2By/hDP69LNE3lmZR9jiOX4qU3KMoVoX05ozhCaTtGU4Sg2vbXX6NUV8l/sO/tV%2BLfAfjGf/AIJ/ftoeJorf4o%2BFSIPC%2BvXxMcXjnScH7PeQO/ElwEG2SPJclSfmYShPrSvfwWMpY6h7SGj2ae8ZLeLXRp/fo1dNM9LibhvH8L5o8HibSi0pU6kbunWpS1hVpyt70Jqz7xfNCajOEooooorrPnwooooAKKKKACiiigAooooAKKKKACiiigAooooAKKKKACiiigAooooAKKKKACiiigAooooAKKKKACiiigArxnxx/wApC/hf/wBkZ8ef%2BnbwhXs1eM%2BOP%2BUhfwv/AOyM%2BPP/AE7eEKAPZqKKKACuO%2BNXwG%2BGP7QXh6x8NfE7StQmj0vVE1LSb7RtfvdKv9Pu1jkiE9teWM0NxbuYppomMcilo5pEbKuynsaKAPL9X/Y0/Z11n4ZWHwdl8F31r4d0caadAsNL8T6jZHRXsE8u1ksJbe4SSwkRMgyW7Ru%2B5t5bcc4evf8ABO39kXxF4R0fwTefDrVLez0W01O1gn0vxtrFleXdvqU4uNRhvbu3u0uNQjupwJp0upJVmk%2Bdwzc17ZRQBBpel6boemW2i6Np8NpZ2cCQWlrbRBI4YkUKqIo4VQAAAOABX5hftCagddl/Zq%2BEJi8yPWf23fHGpzxf3o7Lxzqgf/x25av1Er8vPDlxbeNv%2BCi37N/w2mww0T4q/GzXJVxnbu8U66Y2/wC%2B7ICvFz/XLvZ/zzpx%2B%2BpD9EzixyUo0oNX5qlJfJTUn9yhf5H6h0UUV7R2hRRRQAUUUUAFFFFABRRRQAUUUUAFFFFABRRRQAUUUUAFFFFABRRRQAUUUUAFFFFABRRRQAUUUUAFFFFABRRRQAUUUUAFeM/sv/8AJb/2jv8Ass1j/wCoV4Xr2avGf2X/APkt/wC0d/2Wax/9QrwvQB7NRRRQAUUUUAFFFFABRRRQAUUUUAFFFFABRRRQAUUUUAFFFFABRRRQAUV5t%2BzZ%2B0rpX7SVj4sktfhf4r8H6h4L8XP4e1vRfGENml0twLKzvlkX7Hc3EZjeC%2BgYZcOCWVkUriuT8Fft5%2BDvFHwp8afHzxJ8F/HHhbwF4Jt9amuPF2vDSpINTXS7q4tbkWtvZ39xdli9tLsWWCIuNoA3MFoA91rxnxx/ykL%2BF/8A2Rnx5/6dvCFdF8AP2jNJ%2BPB8Q6RcfDjxN4M8ReFdQhtPEHhPxfHZi%2BtPPto7mCXdZXNzBJFJFICrRythkkRtrxuq8744/wCUhfwv/wCyM%2BPP/Tt4QoA9mrkPjr8B/hR%2B0p8MdS%2BD/wAaPB1treg6pHtntbhcNG4%2B7LG4%2BaKRTyrqQQe9dfRUVKdOrBwmk09GnqmjOrSpV6bp1IqUWrNNXTT3TR%2BbH7QPwG%2BL3wM%2BHL/AX9r34L%2BJfjr8GtFn87wN8V/CEqt4y8ERjGzzYxh5vK2g%2Bch2bIxvBG2JL/7MX/BS34n/AAj8J%2BV4u1eT9oX4XaeB9m%2BKPgYB/EejWuBhda0h8TqyD71xgAqNxaRmr9GK8A/aA/4Jk/sf/tDeI2%2BIWtfDybwz4w8wyw%2BNvA1%2B%2Bk6pHKf%2BWpkhwsr/AO1KjmvmMRkmOwtX22X1bNaWlvbpFy1UoroqibjtGoloexkXEudcO5d/ZFanDMMtu2sNXlOE6Le8sLiYc1SjJ9YyjOnOy9pCVlJeh/AL9p34A/tR%2BEl8bfAP4qaT4lsdoM4sbjE9qT0WaFsSQN/syKprvK/Lf46/8EXP2tvAXi4/Fz9mr45W3ivWbZzJb6ncXTeHPFKjOSo1G1/cXsjkDdLdpkjIyKyvAv8AwVJ/4Kmfsh3Q8J/te/sheJ/Gek2IVJ9ZuvDUtjeDsdt7aJLZXaoMfPtRnOckZqYcR4jBS5M0w8qf9%2BKcoP7rtfe0d9eHBWYwdXL8bLCT3dDHJU36U8XSjUwlZdub6rNrVxWp%2BrtFfGvwg/4Lxf8ABO34m20MHin4j6p4H1R22S6V4s0KdDG/QgzQLLCAD3Z1PqB0Hv8AoX7aH7HvieEXHh39qz4b3ysoP%2Bi%2BN7ByM%2BoEuQfY17mHzbK8XHmo14S/7eX5Np/gfLTxODhJr21N26xqU5L5ONSSa872PS6K5vw98ZPhD4ulEPhT4q%2BG9TcnATT9ct5jn6I5rpOvSu6M4TV4tP0af5XLhUp1FeDTXk0/ybCiiiqLCiiigAooooAKKKKACiiigAooooAKKKKACiiigAooooAKKKKACiiigAooooAKKKKACvGfHH/KQv4X/wDZGfHn/p28IV7NXjPjj/lIX8L/APsjPjz/ANO3hCgD2aiiigArzH9o/wCPPi34R3vg3wP8Lvh1YeKvGHjzxBLpmgaVrHiF9KsY1gsbm9uLm5uo7a5eKNIrYqNkEjNLLEuFUs6enV5h%2B0h8BvF3xcvfBvjn4W/EWw8K%2BMPAfiCbU9A1XWPDz6rYyrPY3NlcW1zax3Nq8sbxXJcbJ42WWKJssoZHAOD8ef8ABQXRvCv7F/hr9ruz8C2ltF4h1Cw0%2B8s/FviRdL03w5dTXP2W4bU9RWGdbW3t51kje4WKRSwQAYfcOMn/AOCrWj3Xwx%2BHPiLTfC/gHSte%2BIceu3NifHPxYTRvDhsdL1FNPa8ttXNlK15FeSTW0tlstVa5t5vNIjCsK7Jv2GPGWj/AHwX8GPBPxysra8%2BHviDTde8Oa1q3hFruO91OHznu5dStkvIluo557iadY4mtzBJ5bKzGNTXKz/8ABMjxBpnhvSNS8F/Gvw9b%2BNobDxtYeINe1r4c/btOu7TxVqSalqUVrp4vojabLiKMQbp5lWPzFlW4MjPQB9Y2E1zcWMM95AkUzxK0scUu9UYjJAbA3AHvgZ9BX5d/saXGl%2BK/%2BCwt3e3k6rF4D0D4lTyMefLlm%2BIuvx9BzuKXygAcnIr9GdA%2BBXw4034FaV%2Bzp4k8P2/ibwvpnhu00SWw8UW0d8l/a28KRL9pSRSkxIjUtlcE84r8y/8Agj98PtC0r/gor%2B03N4S8P2WlaL4K8c6j4d0bTNMtEgtrK2m8ZXMqQRRoAsaL9mIVFAAAwBxXi5wnOphafetH/wAlU5fojjr%2B9jMNG9vflL/wGlVf6/fY/U//AITDSf8An01T/wAEd3/8apf%2BEw0n/n01X/wR3f8A8ar528ff8Fkf%2BCb3wv8AHetfDTxz%2B0b9h1vw7q1zpmsWX/CIaxL9nureVopY98doyPtdGG5SVOMgkc1k/wDD8v8A4Jaf9HQ/%2BWTrf/yFW0s8yWEnGWJppr%2B/H/M/SKPhb4mYijGrSyTFyjJJprD1Wmmk001CzTTTT6pp9T6f/wCEw0n/AJ9NV/8ABHd//GqP%2BEw0n/n01X/wR3f/AMar528A/wDBZH/gm98UPHei/DTwN%2B0b9u1vxFq1tpmj2X/CIaxF9ouriVYoo98loqJud1G5iFGckgc1337f3xg%2BJn7Pv7E3xT%2BOPwbtNNm8T%2BEvA%2Boaro66vMyW6ywQtJvfbHJu2qGYJtw7KELIGLr14XG4PGxcsPUjNLfladvWx8/nnDPEnDFaFLOMFVw0ppuKq0503JJ2bSmk2k9G110PS/8AhMNJ/wCfTVf/AAR3f/xqj/hMNJ/59NV/8Ed3/wDGq%2Be9T/bc%2BNvhX4h%2BOfBfxC%2BBXgTQtP8Ahl8PLTxN458T3fxUujY273cWqNb21tjRxLOofT4xLK6RFEuC0cczoIpOZ%2BG3/BSrV/irqnhnQ9W%2BE%2Br%2BF9bi%2BNEvg7xDpCy3ltDIh8H6hr8M%2B3WNHtL14XSGJNv2e0kEqBllkhUrcdJ4Z9Vf8JhpP/Ppqv8A4I7v/wCNUf8ACYaT/wA%2Bmq/%2BCO7/APjVfPP7JX7fPxJ/aH0/RLjxz%2BzB/wAI/d%2BLPhNovxB8J6X4e8aw6rPdadfMEeCc3EFlFb3EJeJioeRHR8hwymOup/ar8WfFXUvi18L/ANnj4W/FfUPAjeNrrWLrVvFejabY3V7Fb2FkJFtoFv7e4t1aSaaFmZ4nPlQSqu1mEiAHrv8AwmGk/wDPpqv/AII7v/41R/wmGk/8%2Bmq/%2BCO7/wDjVfO1n%2B0F%2B0j8UP8AgmL4W/aB%2BHdhK/j3W9A0GfWrjw1oq3c0UEl7axavf6fZyBxPKlmby6trdll3ukSFZc7W8NP7Z/7VXjTSB8J/hp4l%2BKWsaho/xq1bw4bvTfCegaV468QaPB4ZtNYiuhZ63a2%2BmWqxzajDDMZobeQxpEFRZpChAPvv/hMNJ/59NV/8Ed3/APGqP%2BEw0n/n01X/AMEd3/8AGq/OzxT%2B3f8Atiaj4U8DfEXw58ULu60/Tfg34G8SeOtY8H6Dpf8AYenahf6jcw6pc6/FqUI1FLJoLcmGLTFFzEYLtp0iXyWr6C%2BGPxP%2BP3g79tPVvB37S3iz4k6doXi/xpqWm/CCyl03wy3hbVLeHTfti26y2sLatFdrFa6hOPtTxxusD7S%2BAtAH0xpviHS9VuGs7Zp0mVN5iubSWFiucbgJFUkZ4yPWrtZV3/yO2n/9gq8/9GW1atABRRRQAUUUUAFFFFABRRRQAUUUUAFFFFABRRRQAUUUUAFFFFABRRRQAUUUUAFeM/sv/wDJb/2jv%2ByzWP8A6hXhevZq8Z/Zf/5Lf%2B0d/wBlmsf/AFCvC9AHs1FFFABRRRQAUUUUAFFFFABRRRQAUUUUAFFFFABRRRQAUUUUAFFFFAHzx%2Byt8Of2wfhr8TPir4l%2BK/wx%2BGtrpvxC%2BJMPiOzfw98StQvp7S3/ALJ07TZI3jm0W3VpANOWVcPhjOUJXy97%2BYeJf%2BCb/j/4j658RbjTPht8LPg3ZeLfhvr%2BgyQ/DfULi%2BXxLrN9eWt1aa1q0RsLFPMtXtpSF/fyuNQuF89QPn%2B1qKAPHP2Y/hH8ZPDvj7x/8dPj/Z%2BGdP8AE3jq60yFdD8IazcajY6fY2Fp5US/ari1tXmleWW5lY%2BSgVZI4xv2GR%2Bbv/hj4b8Hf8FNvBfjPSdS8QzXniH4PeOJL%2BHVfF2o31pEU1bwlgW1rczyQWQO45W3SMNgbgdq4%2Bh68Z8cf8pC/hf/ANkZ8ef%2BnbwhQB7NRRRQAUUUUAFFFFAHNePvgv8AB34rW/2T4o/Cfwz4li/55a/oVveL%2BUyMK8B%2BLH/BGL/gm98XGnutQ/Zu07QrubJW78J3k%2Bm%2BUfVYYXEA%2BhjI9q%2Bo6K48Tl%2BAxitXpRl6xT/G1/xFTjTpV1WjGPMtm4wl/wClQmvw16n5mfET/g2z%2BFgV2%2BCX7Ql/YRBi66d4x8MWupLJ32G4g%2BzyovuMkCuHi/4JNf8ABTD9nmcXf7OvifRtPit%2BYYvhl8VNX0l7rHe4g1QTwNn%2B6CFr9a6K8OpwfkblzUoOm%2B8JNf5/g0fSriDA4iHLmGU4HEf3pYSlTqfKthXhKl/O7PyX/wCF8/8ABeX4HweR8YrLx7LbwNtSXS/hPo/iWOOMHhpbjT5o2YAdWK5rW8Ef8FQv2o/E%2BqDw1rX7fXwP8K6shAm0zx98NdZ0iaL03tKohU/R%2BK/VKsXxt8N/h38S9MOi/EfwFoviCzIINprelQ3cXPX5ZVYfpUf6vZhR/g42bXabl%2BcWn%2BA1Hw0xumKy3E4d98Lj61l6U8XDERt5e1XqfGfhX9q3/gpXpCpeaDqn7M3xvsHAeGPwH8QTpl9KDzjdcO0H0Iz712Cftqf8FKNSQLoX/BIbUmkxh2vvjRo9ugPfDGM7h6Eda7DxX/wSd/4Jy%2BMnd9X/AGRfCUJkJLf2VbyWAGfQWzx4/DFck3/BE79gXTmL%2BBfB3ivws2cq3h74gapFtPt5k74o%2BpcR0tI1br/r4n%2BNSi3%2BLD/Vnw3q6YfPMxoLtUw2Fr2/7fhVjL/yVjf%2BGmP%2BCtV3zb/8Ex/DVpntdfGixkx/3xHSf8Ng/wDBTXwqceOv%2BCU0l/AvLXvhT4uabcE%2BwgdA5/Onf8OmNE0Q7/h1%2B3j%2B0j4c2/ct7L4oNLbj6xyQtu/Ol/4d8ftb6Rx4R/4KufFCHH3P7Z0Sw1D894XNHs89hv7W/lOhJfc6cQ/1D4Vq64fi2Sf/AE9wdaP38tOqvuGj/gph8aNM/wCRo/4JbfHyHH3v7J0O3vvy2Srmj/h5h8adY/5E3/glt8fJ8/d/tvQ7fTvz3ytimH4W/wDBY34Pkv4I/ac%2BFvxas4%2Bfs3j3wjLot2yf3UfTyUL9tznB6mpB%2B0j/AMFbtGH/ABM/%2BCa/hTWiv3jo/wAYrO23fTz4zj8aPrOYQ0q1K0f%2B4EJf%2BTQcl%2BA34W55iNcBxDg68O/taFGXzjiYUJL5p%2BpH/wAPbfDHgb9z%2B0l%2Bxx8b/hzs/wBfqep%2BB3vNNX123Nszb8d8JVm0/wCC3/8AwS/un8l/2mxbyD70d14P1iMj6lrTH61F/wAN4/tzaD/yPv8AwSV8b2%2BPv/8ACPeO9M1XH08sLmorv/gon8b9Sj8q8/4JS/Gqdf7txp1oR%2BslH9pYiGixN/8AHh6if/ktl%2BAv%2BITeJ0f4OIw1SPf22Cl%2BNPHQX/kpJJ/wWp/Yl1iRofhQ3j3x9IGKhPBvw81GcsfQedHEDWj4U/4LK/sAa5qY8O%2BL/ixf%2BCdX/wCWmk%2BOfDV7pssX%2B87xGIf991mx/wDBWXwv4VjW2%2BK/7Dv7Qng1Yhh7m%2B%2BGjS2agf3ZYZW3Aey1n%2BKP%2BCwX/BLjxhYf2D8Y/FFzBbMcGx8X/DTUpI8nsVNrItH9rSjq8dST7SpygvxkpfmD8IfGj4qODlW/690VVi/SVDE1pfn6HV%2BJv%2BCyX/BM/wAJll1L9q7R5yDjGl6ZfXuT7fZ4HzWKf%2BC2v7AdyN%2Bg%2BMfFmqoOTJp3w%2B1Rhj1%2BaBeKsfD7/gpn/wAEktKVF%2BH/AMdfAeijHyiHQpNOx/31bpivT9A/4KBfsL%2BJ9q6N%2B2H8M5Hb7sUnjayikP8AwB5Q36VvTx2Ir/DjaHySf51V%2BR5WK8PPFvB64nBVaf8A3JYl/i0cn4A/4K0/8E5viPC0ujftY%2BGLFkUmWHxHJLpLoR1XF6kWTxjAzk9M1y%2Bs/wDBYL9n/wAQ6vN4c/Zf%2BFnxI%2BNF7aybb2T4deD55rS2xy2%2B4m8tenQruDEgA816h4tv/wDgn/8AHSVZvHd98HfGL7gUfVpdK1A5HQgyF69K8HXHgG30eDRfh/No6WFtGEtrTRmiEMSeirH8qj2Arqj/AGrX91Yiml3jG8n8pTcV%2BJ8/iMn4yoe7iWqS/m9hUUvuq2gvxPmO0/4LQfsd6HOunfHbSfiJ8Kr5uPsPxD%2BH19avuxyuYEmXPXqRT7r/AILhf8Ew4f3dn%2B0m97OeIbWy8G6w8krdlX/RMZPuRX1bc2tteQm3vLeOWNsZSRAwP4Gi3srO0G21tIoh6Rxhf5Vr7DOloq8H5um7/hUSOT6txDHRYmm13dF3/wDJaqifJf8Aw9Y1Xxf/AKX8DP8Agn58efF2nR/PLrDeDhp9tJH3MDTybpmx/DtUmgf8Fof2UfDf%2Bg/GzwJ8U/hxqrfLDo3jT4cXsVxPJ/zzjECyqxPbJAPtX1xRS%2Bq5tHVYlN9nTjb5Wkn%2BLD6lnkfejjE32dGPL8uWal98mfIk3/BTn4r/ABOQ2P7J/wDwTs%2BLviueb5bPV/Fumx%2BHdJkJ6OLm4ZtyjqflU9uM5qGT4Nf8Fjfiqh8eeJf2t/h78Mb62/faT4I8K%2BDv7VspW7R3t1dHzPu5VvK3Lk7l5Ar7BooeWVq3%2B84icvKNqa/8k1fzl8mJ5PiMRri8VUn5QapR/wDJPefzn8mfH1n%2B3v8Atd/s7zDwv%2B3B%2Bw14mvyi4t/HPwTs21zS73HV3t2YTWY/66Ek9lAq7F/wW2/4J9afILb4geP/ABL4QuCcC18TeAtUhfPp%2B7t3A/OvrSmyRRzIYpo1dWGCrDINCwmaUtKWJuv78FJ/%2BBRlBv1auCwOdUNKOLUl09pTUn85RlBv1av3ufMZ/wCCzX/BMoac%2BqH9q7SfKQZKjR9Q8z8I/s%2B8/gKxx/wWk/Y81c%2Bd8PvD/wAS/Ftr2v8Aw58N7%2BWE%2BnMiIf0r6f8A%2BFfeAv7RTV/%2BEI0j7XGcx3X9mxeYp9Q23IrXp%2BxzqW9aC9Kbf/pU7D%2Br8Qz%2BLEU4%2BlJv/wBKqWPkr/h89%2ByVpLpc/EPwd8UfCGmFgsmueJvhtfQ2kRPQM0auwz/umtbwL%2B0z%2Bz9%2B0x%2B3j8N9f%2BAfxf0HxXb2fwZ8cfbxo%2BoLJLaeZq3hLyxNF9%2BEtsfAdVJ2Njoa%2BnZYop4mhnjV0dSro4yGB6gjvXzu3wc%2BEnw0/wCCkngXxH8Ofhh4f0C/174M%2BNv7bu9F0eG1kvzFq3hPyzMYlXzCvmyYLZI3n1rWhSzSnVXtasZx6%2B44y%2BVpNP5o2w1HOaVZe2rQqQ6%2B44SXpaUovXulp1PoqiiivQPVCiiuP%2BNPx5%2BGP7P3h2y8S/E7Vb%2BGPVNUTTdJstG0C91W%2B1C7aOSUQW1nYwzXFw4ihmlKxxsVjhkdsKjMADsKK8%2B8Q/tS/Ajw18GNG/aBuvHJvPCviRLE%2BHL3RNLutRn1Y3m37NHa2trFJcXEkgYERxxs%2BAxIAVsY/ib9uX9lnwZ%2BzsP2rPFXxTWw8Dfb2sW1O40a9W4jvEu3s5bV7LyftSTxXEcscsLRCSEwymRUEblQD1mvzc/4I2%2BG7hPjp%2B2T48kT5L/9qPUdORj62vibU2I/K5Wv0jr4i/4JN%2BGZNG8CftE67PblW1j9tXxxNFIR9%2BJPESxD8A6SfrXn4ul7TF4d/wAspP8A8ka/UqFCVSTq20gnf/t7liv1Pt2ivmLx/wD8FNf%2BEC8d634F/wCHfP7T2tf2Lq9zYf2xoHwn%2B02F/wCTK0fn20v2kebC%2B3ej4G5WU4GayP8Ah7D/ANY1P2tP/DN//dVZyzrLIycXU1X92f8A8rPElxDk0JOMquq0%2BGp00/59H1pWL8R/h54M%2BLnw%2B1z4VfEbQYtV8P8AiXSLnS9c0ydmVLq0uImimiJQhgGRmGVIIzkEHmvnzwD/AMFNf%2BE98d6L4F/4d8/tPaL/AG1q9tYf2xr/AMJ/s1hYedKsfn3Mv2k%2BVCm7e74O1VY4OK9m/aT8YfE74efALxf8Qfgz4ctNZ8T6DoFzqWj6Lewu6alJAhlNqAjoQ8qo0aNuwrurEMAVPXhsZhsZFyoyulvpJf8ApUY/qduDx%2BDzCLlh5cyWj0kvP7UY/hcxoP2Nf2eF8K%2BKfB2p%2BENS1ez8a%2BG7fQfFUviLxXqep3WpWEH2nyY5Lm7uZJ96fa58ShxKNy/P8ibc7wP%2BwV%2By18PdSXXPD/gLUptSHi4eKJdW1rxjq2pXlxq40ibRhdzXF5dSyzsNPnlt8SMy7SpxuRGXw3xH/wAFH/ib8SPC1z4x/ZcbQ9VsPEfjubSPhRLF4SXVG8QadYaQt1qt7I1zrelW0McV358Adrhdos3ASVpB5fE%2BDf26viN8XPEeifHiy%2B02unePPhl%2BzvqsfhRtfvfsOlT%2BIvF2u21/JB9mni3OYvJRmOUnW1hWZJYl8o9J2H2H4Y/ZO%2BBHgmx0Sw8HeE73Sl8OeBrTwdok2neI9QhmtNFtXjeC1WVJw52mKPMhYyMAQzsGYHR%2BN/7PXwp/aJ0TT9D%2BKWj6jMNI1E32kX%2BieIr7SL6xuDDLAzw3lhNDcRboZponCSAOkjKwKkivk34J/tU/tQfG79qT4QeMNT8VeEf7E8d/C3x/rfhz4e6VdXuntayWd/o0FtBq0pmuEupY/NKNcJbRG2ke4RYpM5Pt37b%2BreJJ9M%2BFHw3l8Var4d0jx38V7DQ/GepeG9duNPuobM6ff3SQQ3tu0U9v597a2dr5kbRyMtwVUqXFAHobfs9fC2LwInwy0Ww1fRdAg8NWmg2OmeGvFOo6XHp9ha/6hLX7JPGbR0GF86EpKVVFLlUUDltQ/YS/Zk1DwNo3gEeD9atIdA1e71TTNZ0vxzrFnrSXt0rrdXD6tBdpfzSTrIwlaSdjKMB921cedfBjU/2gvij/AME3/HOifCn4mXEvje0vfH3hv4d%2BMNc1IyTSx2Gt6rp2kXU11IJDI/kW9sTdOJDIR5zB9xz87ar8Zv2odDPjD9nnwF4J%2BIWj6Fd/F/wT4ejs/Gnxhkuta0v%2B0bGae%2Bs5dehub%2BWxSWSCw5immnii1XdCI5ZYoowD7G1j/gnt%2ByFrUuh%2Bb8JWtLbw/oWm6JaaXpPiHUbGwu9N0%2BVprK0vbS3uEg1GGGR5GSO7SZVMsmB87Z6PTP2VvgxpvxiT48yabr2oeJLe4ubjTpdc8a6tqNnpc1whjmksrG6upLWxd42eMtbxRnZI6AhXYH5K%2BNVxpHxo/YU0PSvh/wCIvil4P%2BIGqfEG9%2BFnhZtI%2BPPiWabT9ZOuT6fqF8L2O9ibV47OK1vr6KW7V28m02NGh3RD1X4laC0/7bvgvwh%2Bz98R/Htz4s0y/tNX%2BJsc/j7U7nQdF8MJZS2yW1xp8s7Wf2q9lRDDiL7SzJPcmQLEQ4B9IXf/ACO2n/8AYKvP/RltWpWXd/8AI7af/wBgq8/9GW1alABRRRQAUUUUAFFFFABRRRQAUUUUAFFFFABRRRQAUUUUAFFFFABRRRQAUUUUAFeM/sv/APJb/wBo7/ss1j/6hXhevZq8Z/Zf/wCS3/tHf9lmsf8A1CvC9AHs1FFFABRRRQAUUUUAFFFFABRRRQAUUUUAFFFFABRRRQAUUUUAFFFFABRRRQAV4z44/wCUhfwv/wCyM%2BPP/Tt4Qr2avnD9o/V/jXo/7eHwnn%2BB3w/8LeItSb4R%2BO1u7TxX4wudFgjg/tTwkS6S2%2Bn3rO%2B7aNhjUYJO/ICkA%2Bj6K8Z/4Tj/AIKF/wDRr/wZ/wDD8at/8y9H/Ccf8FC/%2BjX/AIM/%2BH41b/5l6APZqK8Z/wCE4/4KF/8ARr/wZ/8AD8at/wDMvR/wnH/BQv8A6Nf%2BDP8A4fjVv/mXoA9mor5x0n9o79u3WPjPr/wOt/2UPhIuqeHfC%2Bka7eXL/HXVPIkg1G51K3hRCPDG4uraXOWBUAB48FiWC9R/wnH/AAUL/wCjX/gz/wCH41b/AOZegD2aivGf%2BE4/4KF/9Gv/AAZ/8Pxq3/zL0f8ACcf8FC/%2BjX/gz/4fjVv/AJl6APZqK8Z/4Tj/AIKF/wDRr/wZ/wDD8at/8y9cv4B/aO/bt%2BInivxv4Q0f9lD4SQ3HgPxRFoWqyXPx11QJPPJpWn6mHi2%2BGCSnk6jCpLBTvRxjADMAfR1FeM/8Jx/wUL/6Nf8Agz/4fjVv/mXo/wCE4/4KF/8ARr/wZ/8AD8at/wDMvQB7NRXjP/Ccf8FC/wDo1/4M/wDh%2BNW/%2BZej/hOP%2BChf/Rr/AMGf/D8at/8AMvQB7NRXzj8Iv2jv27fjL4Uu/F/hz9lD4SW1vZ%2BKNb0KSO9%2BOuqK5n0vVbrTJ3G3www2NNaSMhzkoykhTlR1H/Ccf8FC/wDo1/4M/wDh%2BNW/%2BZegD2aivGf%2BE4/4KF/9Gv8AwZ/8Pxq3/wAy9H/Ccf8ABQv/AKNf%2BDP/AIfjVv8A5l6APZqK8Z/4Tj/goX/0a/8ABn/w/Grf/MvXL/BH9o79u348fBjwh8cfCv7KHwktdL8Z%2BF9P13TbbUPjrqizwwXdtHcRpIE8MMocLIAwVmGQcEjmgD6OpHRJEMciBlIwVYZBrxr/AITj/goX/wBGv/Bn/wAPxq3/AMy9H/Ccf8FC/wDo1/4M/wDh%2BNW/%2BZegD0TW/hB8JvEuf%2BEj%2BF/h3UN33vtuiQS5/wC%2BkNcXr/7Cn7E/inc2v/sifDO6dussngew8z/vsRbv1rP/AOE4/wCChf8A0a/8Gf8Aw/Grf/MvXL/G79o79u34D/Bjxf8AHHxV%2Byh8JLrS/BnhfUNd1K20/wCOuqNPNBaW0lxIkYfwwqlysZChmUZIyQOawqYXC1fjpxfrGL/NM9XC59nuA/3XF1af%2BCrVj/6TUiX9U/4JW/8ABOzV8/a/2QfBaZ6/ZdNMH/osriuY1b/gil/wTE1l/Muf2WrOJs5Bs/Euq2%2BPwjulFegf8Jx/wUL/AOjX/gz/AOH41b/5l6P%2BE4/4KF/9Gv8AwZ/8Pxq3/wAy9ck8myip8WHpv/tyP%2BR7%2BH8SPETCfwc4xUfTEVv1qM8y/wCHHH/BMIfd/ZyuF9CPHGtcf%2BTlJ/w5E/4J0xf8g74Ua7Znsbbx7q4x%2Bdya9O/4Tj/goX/0a/8ABn/w/Grf/MvR/wAJx/wUL/6Nf%2BDP/h%2BNW/8AmXrP%2Bwck/wCgan/4Cjs/4iv4odc7xb9a9R/m2eY/8OXf2N4fl0vVfiPYp3itPiRqAUj05kNL/wAOT/2CrnnWvCvi/Um/v33xB1Rj/wCOziul%2BLv7R37dvwa8KWni/wAR/sofCS5t7zxRomhRx2Xx11RnE%2Bqara6ZA53eGFGxZruNnOchFYgMcKeo/wCE4/4KF/8ARr/wZ/8AD8at/wDMvR/YWS/9A8Pu/wCCH/EVvEvpnGIXmqln96in%2BJ5l/wAOR/8Agnh/0THxBjuv/Cfatg/%2BTNH/AA5A/wCCbf3z8FNV8wfdm/4TvWNyn1H%2BlYr03/hOP%2BChf/Rr/wAGf/D8at/8y9H/AAnH/BQv/o1/4M/%2BH41b/wCZej%2Bwsk/6Bof%2BAoP%2BIr%2BJ/wD0OsV/4PmeY/8ADmD9j6y48M6/8S9FXsml/EnUEA/77dqX/hz78F4vlsv2mvj3bR94oPircBT%2BaGvTf%2BE4/wCChf8A0a/8Gf8Aw/Grf/MvXL%2BPv2jv27fh34r8EeENY/ZQ%2BEk1x488US6FpUlt8ddUKQTx6VqGpl5d3hgEJ5OnTKCoY73QYwSyn9hZP0oRXpdflJB/xFXxHfxZpVl/icJfjOjJ/icz/wAOevgd98ftHfHYSj7s4%2BKlzvX6fLij/h0n4dtuNE/b8/ah01eyWPxedQP%2B%2Brc16d/wnH/BQv8A6Nf%2BDP8A4fjVv/mXo/4Tj/goX/0a/wDBn/w/Grf/ADL0f2FlHSivk5L8poP%2BIqeIb%2BLMZv8AxQoS/CWGkvwPMv8Ah1XrSfJD/wAFMf2pQno/xSVm/P7NVL4K/spz/sx/8FC/BZuP2l/it8RTrnwZ8Zf8lN8WjVBp/k6t4V/49h5SeV5nm/P13eVH028%2Btf8ACcf8FC/%2BjX/gz/4fjVv/AJl6oeB/A/7VnjH9qzw58bvjd8OPh74Z0bwz8PfEOhww%2BFfiHfa1dXd1qV9olwjMlxpFikUaJpcoLB3YtKgC4yRtQyrAYaqqlOFpL%2B9N/g5tfgefmnH3FudYGeDxuJU6U7XXssPG9mmvehhqclqk9Jrzurp%2B60UUV6B8eFeJftbeDficfHfwp%2BOvwx%2BGV/42k%2BH3i2%2ButW8KaRf2Vte3VpeaRe2Rmtmvp7e3Mscs8JKyTRgxNNtYsFR/baKAPinXf2YPjuv7DHw/%2BBetfBXV9Wv/AAx4z0vxB4w0nwv4qtNPv54Zbq4vri20PUftlu1tcWs80UXntJaM8MUqxSDzAw80%2BKf/AATg/bX8c/sTN4T8CeIdC0nUNK0nxonhn4YeMtCXWr9Tq%2Bq3U1tPNqsWr28B1YWE32eW8lN2Wa5u2aadp5ZpP0hooAwtW8N%2BMPEHw8Phi6%2BItzo%2BuT6ckVz4m8MadbxPDcbRvnt4L5buKMFgxVJRMFBwS5G6vA/%2BCf3gVPh3%2ByvrtjN4j1DWrg/Hnx1eatrWpxwLc3kieOdTEtzKttFFErFYt7CONEBztVVwo%2Bma%2BSv2SvFn7Z2n/D3xRZ/DH4B/DDV9CT40/EX%2Bz9R174u6jpt3Mv8AwmesljJbRaBcpEQ24ACZ8gA5BO0JpNp9i41JxhKCekrX87O6%2B56n1B/wnPgn/ocNL/8ABhH/APFUv/Cc%2BCf%2Bhw0r/wAGEf8A8VXlv/Ccf8FC/wDo1/4M/wDh%2BNW/%2BZej/hOP%2BChf/Rr/AMGf/D8at/8AMvTIPUv%2BE58E/wDQ4aV/4MI//iqP%2BE58E/8AQ4aV/wCDCP8A%2BKry3/hOP%2BChf/Rr/wAGf/D8at/8y9H/AAnH/BQv/o1/4M/%2BH41b/wCZegDUvvgZ%2BxRqnw40n4O6n8HfhbceEdAvftmheFZ/D2mvpum3O6RvOgtinlQybpZTvRQcyOc/Mc6Gn/Dj9lHSbW1stK8B/D22hsrTSbSyht9LsUW3g0ueS40yJAFARLSeWWW3UYEEkjvGFZiT5n8Ef2jv27fjx8GPCHxx8K/sofCS10vxn4X0/XdNttQ%2BOuqLPDBd20dxGkgTwwyhwsgDBWYZBwSOa6j/AITj/goX/wBGv/Bn/wAPxq3/AMy9AGrY/A/9irS/FOt%2BOdM%2BEHwut9b8SwXUPiPWIPD%2BmpdarHdY%2B0pcyhN86y7V8wOSHwN2cV0HjfSvgB8TPBFz8MviRpvg7xB4bvIUiu/D2uQ2l3YzxoysiPBKGjZVZVIBXAKgjoK4r/hOP%2BChf/Rr/wAGf/D8at/8y9H/AAnH/BQv/o1/4M/%2BH41b/wCZegDq4/B37M0WhWfheLwr4EXTNO8O3Ggafpy2NkILXSbgQifT448bUtZBbwB4ABG4gjyp2LjP0z4Qfsd6J8J7n4C6N8L/AIaWnga8LG88F2uiafHpM5Zw7F7NUELZcBjleSAeorzz43ftHft2/Af4MeL/AI4%2BKv2UPhJdaX4M8L6hrupW2n/HXVGnmgtLaS4kSMP4YVS5WMhQzKMkZIHNdR/wnH/BQv8A6Nf%2BDP8A4fjVv/mXoA67RfC37N3hvS/Dmh%2BHfDvgewsvB0rSeEbOys7OKLQ3aCW3LWaKALYmCeaImMKSk0i/ddgcO%2B%2BBH7Emp/F1v2gdS%2BDXwruPHr3UNy/jefw7pr6u00MSQwym8KecXSKOONW35VEVRgACs3/hOP8AgoX/ANGv/Bn/AMPxq3/zL0f8Jx/wUL/6Nf8Agz/4fjVv/mXoA9JttX0vXPGNrcaLqMF3Hb6ZcrPLbSh1RnkgKglcgEhG49q3a8Z/4Tj/AIKF/wDRr/wZ/wDD8at/8y9cv8Xf2jv27fg14UtPF/iP9lD4SXNveeKNE0KOOy%2BOuqM4n1TVbXTIHO7wwo2LNdxs5zkIrEBjhSAfR1FeM/8ACcf8FC/%2BjX/gz/4fjVv/AJl6P%2BE4/wCChf8A0a/8Gf8Aw/Grf/MvQB7NRXjP/Ccf8FC/%2BjX/AIM/%2BH41b/5l6P8AhOP%2BChf/AEa/8Gf/AA/Grf8AzL0AezUV84%2BPv2jv27fh34r8EeENY/ZQ%2BEk1x488US6FpUlt8ddUKQTx6VqGpl5d3hgEJ5OnTKCoY73QYwSy9R/wnH/BQv8A6Nf%2BDP8A4fjVv/mXoA9morxn/hOP%2BChf/Rr/AMGf/D8at/8AMvR/wnH/AAUL/wCjX/gz/wCH41b/AOZegD2aivGf%2BE4/4KF/9Gv/AAZ/8Pxq3/zL1y%2BrftHft26P8Z9A%2BB1x%2Byh8JG1TxF4X1fXbO5T466p5EcGnXOm28yOT4Y3B2bVICoCkEJJkqQoYA%2BjqK8Z/4Tj/AIKF/wDRr/wZ/wDD8at/8y9H/Ccf8FC/%2BjX/AIM/%2BH41b/5l6APZqK8Z/wCE4/4KF/8ARr/wZ/8AD8at/wDMvR/wnH/BQv8A6Nf%2BDP8A4fjVv/mXoA9mor5x0n9o79u3WPjPr/wOt/2UPhIuqeHfC%2Bka7eXL/HXVPIkg1G51K3hRCPDG4uraXOWBUAB48FiWC9R/wnH/AAUL/wCjX/gz/wCH41b/AOZegD2aivGf%2BE4/4KF/9Gv/AAZ/8Pxq3/zL0f8ACcf8FC/%2BjX/gz/4fjVv/AJl6APZqK8Z/4Tj/AIKF/wDRr/wZ/wDD8at/8y9cv4B/aO/bt%2BInivxv4Q0f9lD4SQ3HgPxRFoWqyXPx11QJPPJpWn6mHi2%2BGCSnk6jCpLBTvRxjADMAfR1FeM/8Jx/wUL/6Nf8Agz/4fjVv/mXo/wCE4/4KF/8ARr/wZ/8AD8at/wDMvQB7NXjP7L//ACW/9o7/ALLNY/8AqFeF6P8AhOP%2BChf/AEa/8Gf/AA/Grf8AzL1b/ZW%2BHPxp8H6x8UPHfx00DwvpOqePviFFrlnpXhPxLc6tb2trFoOj6YqvcXFlZs0jSadK5URbQsiDcxzgA9booooAKKKKACiiigAooooAKKKKACiiigAooooAKKKKACiiigAooooAKKKKACvlfVv2tPi5D%2B0jNri%2BHfB7fDzSPjBbfC5opNIuDr5uLzT7W4bUI7z7R5SQfbpbe3a0%2BzkskPn%2BeCFhr6orxm8/Yh%2BHF58fm%2BOr%2BOfFS20viuHxVc%2BBUurX%2BxJ9fi05dOj1RlNv9p81bdIx5QuBbmSJJjCZR5lAHs1FFFABRRRQB8x%2BHP2lviZD/wAFAPFHwf8AiNrHh7wn4bXX7TRfBkWo/CLWUuvGMH9gQajiDxG12unNLHd3OoAWgheXy7SYBQWaRfpyvK/Fn7LUHj/4yaR8U/Hvxv8AGur6V4e12PWtA8AXB0yLRrHUI7d4I5w0Nkl7Ls8ySRUmupIxI%2B7Z8iBfVKACiiigDxf/AIKC/F344fs/fsj%2BNPj18Ar3wpHrHgnQrvXLqDxhotzfW13aWttLM9uiW11bMkrsiKJC5VAWJR%2BBXn/jz9rT4ueC/jx4t1Pwp4d8IRfDzwh8Y/CPw%2B8ZWc2kXB1vVdV12DRUj1CG7S4WGOOD%2B3NJjMUlvK8iQz4lj2oK9h/ax/Zxsv2tPgRr37PutfFXxT4R0nxPZS2OuX/hBdO%2B13NlLE8U1tuv7S6jRHV%2BWRFkBUbXXnPFwfsA%2BDp/iLZ/EXxV8cfH2usdZ0nXPE2jahLpUVj4n1zTEjSx1a9jtrCJluIhBaYW2aCBjY2xeJjHkgHvdFFFABXi/wC2T8Xfjh8ErXwD4x%2BFl74U/sbUPiZ4c8PeL7HxBotzc3Vza6rrNjpoNnLDdQpbSRrcyyb5EnUlEXZyTXtFeVftXfstv%2B1V4b0LwvP8ffG/ga30LxJYa6jeC4dHZ7u9sbyC8s2lOpafeDbFcW8bhYwgblZN6naADzj9nn9pX4ma3%2B1X4t%2BCPxQ1fw94T06HxTrdv4J8JSfCLWdMudetoXSU39vrdxd/YNQdjJLLLFbQFxkuxXDE/TleS6T%2ByiH%2BMmi/GX4j/tAeO/Gs3he7vLvwnoXiEaTDYaPdXNvJayXES2Gn20sr/Z5p4V8%2BSVUWd9oBII9aoAKKKKAPB/2tfjN%2B0F8BvEnhfxd4M8QeCL3w9rXi7QvDtt4FvvDl5JrmuXN7fLDctaXsd6sUJgtWkutjWkw8u0mZ3jQF4%2BP/AGJf2tPi58VNe%2BHGmeP/AA74QsvC/wAX/g5cfEH4Zaf4W0i4tJtA0q2n0tBp960lxLHcyfZ9a05hLDHborRzp5RAVq9C%2BJP7HK/ET9p3RP2prf8AaO%2BIGhar4f0MaVpmgaZDolxpcEDzebctGl9plxNDLcgRxzSxSo7RwxorIByfs8/sQ/Dj9nHxdF4q8N%2BOPFWtR6T4el8PeCtI8QXVq9r4S0WS4S4fTrAQW8Unkl4bYZuHnlCWkCCQKgFAHs1FFFABXy/%2B1z8eP2l/gt8RNP8ACmlQ%2BAPGuj%2BOYdattF%2BHMXg%2B%2Bk1hLW00O6u5L%2B4nF68V1bC6it7aSEWsQP2%2BFBMZGRJPqCvDpv2JriP9o/xX%2B01on7VfxL07V/Fumw6dc6XDB4fntNPs4YGjhtrNrnSZbm3iWV3utizbXncu4cHbQAz9hD9oTxv8fPh5eXXxX8faNfeLtOFm2v8Ahuy%2BF2r%2BEbzQHntllEFzY6vdT3Dgtv8ALuAI45FQ7Q20mvdK83%2BB37N2nfBnxP4k%2BIesfFLxT448VeK4rG31jxP4uawW5e0sxN9ltUi0%2B1tbaOKNrm5cbYQzNcSFmbIx6RQAUUUUAfFH7TH7cPx%2B%2BB3x9v8A4D6jpvhDxaNYeyTwl/aPwz1fRbbR9RvfEOh6ZpDPeXd5Lb%2BIEjl1iGW4bTxE1u1p8/ktKir7/wDsq/F/4kfEYeP/AIffGI6JP4q%2BGnjxvDWs6r4a06azsNT8zS9O1a3uIbeaeeS3za6pbo8bTS4kjkwxBGOW%2BJf/AATz8G/G3XrjxB8bfj58RfFT20dx/wAIdDf3OlWyeEbiS6t7qO7sDZ2ELPcQy2lsYpLtrkp5Xfe%2B/wBH%2BAfwF0P4B%2BHtW02y8X654k1bxFr02teJ/FHiV7Y3%2Br30kcUPnTC1gggXZBBbwIkUUaLHBGoXgkgHdUUUUAFfE37UX7Y/7WHwd%2BM3ij4V%2BD/DXhzxvqul%2BGL/AMQ%2BEo0%2BCevwyaQ6Xen28Kwub118TSfZNTnWYaX5TwtEVkEfnCMfbNeI61%2BxfqPiLx%2B3xP1z9rT4oXOt2Fvew%2BDbt00EL4VW7mhec2kY0oJOzRwpAGvRdFYi4BDOzkA6X9lT4tzfGX4UjxNqPxO0bxTqNrqtzY6tdaP4Iv8Aw2bO4ib5rWfTNRuJ7q0nRSu5JmDEMrbVVhXpNcJ8A/gHoHwB0LWbHT/FuueI9V8TeIJdc8T%2BJvEktu17qt/JDDB5sgtoYYIwsFvbwqkUUaKkKALnJPd0AFFFFABRRRQAUUUUAFFFFAFHxR4hsPCXhrUfFeqhza6ZYzXdyIly3lxoXbA7nCmvnP8AYm/aT%2BNfj/xTo/gz42eHvBlmPHXwtsviN4Zh8GaVcWg0yO8uCbvT7szXEou5o3ubZ/tiCATtLMTBHtBf6Wu7S1v7WWxvbdJoZo2jmilUMrqRgqQeCCOMV5D%2BzN%2BxX4C/Zg1V9X0D4g%2BLfEstt4YsfDPh0eLL21mGgaFZvI9vptqbe3hLRqZPmlnM1xII4vMmfy1wAexUUUUAFcL%2B1B48%2BIvws/Zo%2BInxO%2BD/AIUXXvFvhzwLq%2BqeFtDaxmuhqOo29nLLbWxhgZZZhJKiJ5cbB23YUgkGu6rO8W6Jf%2BJfDGoeH9L8V6joVze2kkNvrWkLA11YuykCaIXEUsRdTyBJG6ZHzKwyCAeXfsU/Fqf4o/DO%2BstW%2BIWgazqfh3VF0680zRPhhqng59DQW0EkVncaVqlzPcwuEcSK7eWjxSxbEwN7%2BxV558B/2dtJ%2BB154l8R3PxE8SeMfEni/UYbzxF4p8VvZi7ujDbpbwRCOxtra2iijjQBVjhTJZ2YszMx9DoAKKKKAPlz9qj9rH4ofs4fF7xxZfErRvCXiL4X2H7O/i/x7baFb6JcJqrtog0tZ7a4uZLl7eaKdb6cBBbIVCJl3ywrt/2Z/i/8fNU%2BLnjL9nX9pZ/CV54o8MeGPD3iWPVfBWk3NjZSWWrPqVutsYbm5uXMsNxpF2DKJAsiPE3lxnctQfGP9hXw78dPjq3xl8efHbxzLps3grU/CN98PYYNF/sS70bUltvt9pIX01r0idrSB2cXQdShCMiMyHpP2d/2XdD/AGfb7WvEc/xQ8W%2BN/EOv2thZX/ifxtc2kl6bCxSRbOzH2S2t4/KiM9w4JQyO9zK7u7NmgD0%2BiiigAr5E%2BNf7S/7W3gvXP2gPAtv4V8GeLL3wF4f8KeJPhtY6T8P9Tv51j1HVdShCXdrFePLqM8C6bHOpthbkuSFX5VavruvC5f2KPEMXx08bfH/Qv20PitpWreN9IsdMubGys/DDWmm21lcXM9mlsJdFeT90by6UGZ5S6zkSeYVQqAdX%2Byp8W5vjL8KR4m1H4naN4p1G11W5sdWutH8EX/hs2dxE3zWs%2BmajcT3VpOildyTMGIZW2qrCvSa4T4B/APQPgDoWs2On%2BLdc8R6r4m8QS654n8TeJJbdr3Vb%2BSGGDzZBbQwwRhYLe3hVIoo0VIUAXOSe7oAKKKKAPjb9pb9rv9pb9nj4zQfDbWU%2BGfjW%2B1uCCbwjDp3ha9tJfBd5qXiHTPD2kTanK99MLqKdtXnBaJbORxY3Sxhl8wxe4/sq/F/4kfEYeP8A4ffGI6JP4q%2BGnjxvDWs6r4a06azsNT8zS9O1a3uIbeaeeS3za6pbo8bTS4kjkwxBGOFtv%2BCavhJrr4hv4h/aX%2BJ2s2/xJ1465rFvqR0LzLPUoriGfT7m2uotLS6U2D29uLSN5pIolhQMj859Y%2BAfwF0P4B%2BHtW02y8X654k1bxFr02teJ/FHiV7Y3%2Br30kcUPnTC1gggXZBBbwIkUUaLHBGoXgkgHdUUUUAMuftP2aT7Hs87YfK83O3djjOOcZr4g%2BK37XP7afw0%2BImufDa3tvAfjPXvDF74at9W8deCPgrr%2BrR%2BHLfVmvHvbCXSrPUp7u5mjhsrG6JinT93dQtLAgMTSfb13DJcWstvDdSQPJGyrPEFLxkjAZdwK5HUZBHqDXz38GP2AvEHwE%2BG1x8NPh3%2B3V8Yoo7rVn1ObWbyy8Jz6hLdyvLJczzTPoR%2B0yTvLukknEj5jTYUAwQD1n4CfEOy%2BK3wd8P/ABCsPiBo3ipNT08SPr/h/SZrC0u5ASshS1nmmltirqyNDJI7xsrKx3KQOvrkvgX8F/CX7Pvwv074U%2BCrm/uLKwluria%2B1W5E11fXd1cy3V1dTOFUNLNcTzSvtVV3SHaqrhR1tABVHxPD4kufDeoW/g3U7Gy1eSylXS7zU7B7q2guChEcksMcsTTRq2CyLJGWAIDqTuF6s3xjoN/4o8LX/h3S/FupaDc3lq8UGtaOIDdWLkcTRC4iliLqeQJI3Q4%2BZWGRQB8TfCn9uD9rL43fFy/%2BAHwrsfh/D45R9bnHjbxX8Lda0SPUNJ0i00WT7NNoV3fpqNjK154jijjknmKGFZbiOJ1lUH62/Zs%2BM2n/ALR37OngH9obStIk0%2B18eeCtK8RW1hNJue2jvbOK5WJmwMlRKFJwM4ryLUP%2BCang7UdbuviQ/wC0t8UofiJqE9yupfE%2B1vNIi1i6sZ7SC1l07y100WUVsY7W2YCK2jkWWFZRIJMufe/h94D8J/CzwFonwx8B6PHp2h%2BHNIttL0XT4iSltaW8SxQxLnJwqIqjPpQBr0UUUAcv8adR8caN8Lda1v4c%2BIbHS9WsLM3UN9qHg%2B98QIkcZDygadYzwXN5I0SuqRQyBy7LhXPyN8W/DX/goj8ftc8Q%2BHtd8YXHhHwJ4N1OXUf%2BEo8eXvwM8RXFrqN7a67JpMX2pkvo18Myy2ttETFqjPJbsRG/3NlfbfxM8Ga7498JTeHPDfxS1/wbeSSxvFr/AIZisXu4NrAlVW/trmBgwBUh4m4Jxg4I8V1D/gnN4U1fwDe/CjVP2kPibceF/Edzd3PxC0N7jR9njKe7uXnu5L6UaaJ4fODiFo7KS1jEKKiooBJAPomiiigAooooAKKKKACiiigAooooAKKKKACiiigAooooAKKKKACiiigAooooAKKKKACiiigAooooAKKKKACiiigAooooAKKKKACiiigAooooAKKKKACiiigAooooAKKKKACiiigAooooAKKKKACiiigAooooAKKKKACiiigAooooAKKKKACiiigAooooAKKKKACiiigAooooAKKKKACiiigAooooAKKKKACiiigAooooAKKKKACiiigAooooAKKKKACiiigAooooAKKKKACiiigAooooAKKKKACiiigAooooAKKKKACiiigAooooAKKKKACiiigD/9k%3D\">"
      ]
     },
     "metadata": {},
     "output_type": "display_data"
    }
   ],
   "source": [
    "s.run(tf.global_variables_initializer())\n",
    "\n",
    "BATCH_SIZE = 512\n",
    "EPOCHS = 40\n",
    "\n",
    "# for logging the progress right here in Jupyter (for those who don't have TensorBoard)\n",
    "simpleTrainingCurves = matplotlib_utils.SimpleTrainingCurves(\"cross-entropy\", \"accuracy\")\n",
    "\n",
    "for epoch in range(EPOCHS):  # we finish an epoch when we've looked at all training samples\n",
    "    \n",
    "    batch_losses = []\n",
    "    for batch_start in range(0, X_train_flat.shape[0], BATCH_SIZE):  # data is already shuffled\n",
    "        _, batch_loss = s.run([step, loss], {input_X: X_train_flat[batch_start:batch_start+BATCH_SIZE], \n",
    "                                             input_y: y_train_oh[batch_start:batch_start+BATCH_SIZE]})\n",
    "        # collect batch losses, this is almost free as we need a forward pass for backprop anyway\n",
    "        batch_losses.append(batch_loss)\n",
    "\n",
    "    train_loss = np.mean(batch_losses)\n",
    "    val_loss = s.run(loss, {input_X: X_val_flat, input_y: y_val_oh})  # this part is usually small\n",
    "    train_accuracy = accuracy_score(y_train, s.run(classes, {input_X: X_train_flat}))  # this is slow and usually skipped\n",
    "    valid_accuracy = accuracy_score(y_val, s.run(classes, {input_X: X_val_flat}))  \n",
    "    simpleTrainingCurves.add(train_loss, val_loss, train_accuracy, valid_accuracy)"
   ]
  },
  {
   "cell_type": "markdown",
   "metadata": {},
   "source": [
    "# Submit a linear model"
   ]
  },
  {
   "cell_type": "code",
   "execution_count": 38,
   "metadata": {
    "collapsed": true
   },
   "outputs": [],
   "source": [
    "## GRADED PART, DO NOT CHANGE!\n",
    "# Testing shapes \n",
    "grader.set_answer(\"9XaAS\", grading_utils.get_tensors_shapes_string([W, b, input_X, input_y, logits, probas, classes]))\n",
    "# Validation loss\n",
    "grader.set_answer(\"vmogZ\", s.run(loss, {input_X: X_val_flat, input_y: y_val_oh}))\n",
    "# Validation accuracy\n",
    "grader.set_answer(\"RMv95\", accuracy_score(y_val, s.run(classes, {input_X: X_val_flat})))"
   ]
  },
  {
   "cell_type": "code",
   "execution_count": 39,
   "metadata": {},
   "outputs": [
    {
     "name": "stdout",
     "output_type": "stream",
     "text": [
      "Submitted to Coursera platform. See results on assignment page!\n"
     ]
    }
   ],
   "source": [
    "# you can make submission with answers so far to check yourself at this stage\n",
    "grader.submit(COURSERA_EMAIL, COURSERA_TOKEN)"
   ]
  },
  {
   "cell_type": "markdown",
   "metadata": {},
   "source": [
    "# MLP with hidden layers"
   ]
  },
  {
   "cell_type": "markdown",
   "metadata": {},
   "source": [
    "Previously we've coded a dense layer with matrix multiplication by hand. \n",
    "But this is not convenient, you have to create a lot of variables and your code becomes a mess. \n",
    "In TensorFlow there's an easier way to make a dense layer:\n",
    "```python\n",
    "hidden1 = tf.layers.dense(inputs, 256, activation=tf.nn.sigmoid)\n",
    "```\n",
    "\n",
    "That will create all the necessary variables automatically.\n",
    "Here you can also choose an activation function (remember that we need it for a hidden layer!).\n",
    "\n",
    "Now define the MLP with 2 hidden layers and restart training with the cell above.\n",
    "\n",
    "You're aiming for ~0.97 validation accuracy here."
   ]
  },
  {
   "cell_type": "code",
   "execution_count": 54,
   "metadata": {},
   "outputs": [],
   "source": [
    "# write the code here to get a new `step` operation and then run the cell with training loop above.\n",
    "# name your variables in the same way (e.g. logits, probas, classes, etc) for safety.\n",
    "### YOUR CODE HERE ###\n",
    "W1 = tf.get_variable(\"W1\",  [784, 256], initializer=tf.contrib.layers.xavier_initializer())\n",
    "b1 = tf.get_variable(\"b1\",  [1, 256], initializer=tf.contrib.layers.xavier_initializer())\n",
    "W2 = tf.get_variable(\"W2\",  [256, 256], initializer=tf.contrib.layers.xavier_initializer())\n",
    "b2 = tf.get_variable(\"b2\",  [1, 256], initializer=tf.contrib.layers.xavier_initializer())\n",
    "W3 = tf.get_variable(\"W3\",  [256, 10], initializer=tf.contrib.layers.xavier_initializer())\n",
    "b3 = tf.get_variable(\"b3\",  [1, 10], initializer=tf.contrib.layers.xavier_initializer())\n",
    "\n",
    "# Compute predictions\n",
    "Z1 = tf.matmul(input_X, W1) + b1\n",
    "hidden1 = tf.layers.dense(Z1, 256, activation=tf.nn.sigmoid)\n",
    "Z2 = tf.matmul(hidden1, W2) + b2\n",
    "hidden2 = tf.layers.dense(Z2, 256, activation=tf.nn.sigmoid)\n",
    "Z3 = tf.matmul(hidden2, W3) + b3\n",
    "output = tf.layers.dense(Z3, 10, activation=tf.nn.sigmoid)\n",
    "\n",
    "probas = tf.nn.softmax(output) # apply tf.nn.softmax to logits\n",
    "classes = tf.argmax(output, 1) # apply tf.argmax to find a class index with highest probability\n",
    "\n",
    "# Loss should be a scalar number: average loss over all the objects with tf.reduce_mean().\n",
    "# Use tf.nn.softmax_cross_entropy_with_logits on top of one-hot encoded input_y and logits.\n",
    "# It is identical to calculating cross-entropy on top of probas, but is more numerically friendly (read the docs).\n",
    "loss = tf.reduce_mean(tf.nn.softmax_cross_entropy_with_logits(labels=input_y, logits=output)) # cross-entropy loss\n",
    "\n",
    "# Use a default tf.train.AdamOptimizer to get an SGD step\n",
    "step = tf.train.AdamOptimizer().minimize(loss=loss) # optimizer step that minimizes the loss"
   ]
  },
  {
   "cell_type": "markdown",
   "metadata": {},
   "source": [
    "# Submit the MLP with 2 hidden layers\n",
    "Run these cells after training the MLP with 2 hidden layers"
   ]
  },
  {
   "cell_type": "code",
   "execution_count": 56,
   "metadata": {
    "collapsed": true
   },
   "outputs": [],
   "source": [
    "## GRADED PART, DO NOT CHANGE!\n",
    "# Validation loss for MLP\n",
    "grader.set_answer(\"i8bgs\", s.run(loss, {input_X: X_val_flat, input_y: y_val_oh}))\n",
    "# Validation accuracy for MLP\n",
    "grader.set_answer(\"rE763\", accuracy_score(y_val, s.run(classes, {input_X: X_val_flat})))"
   ]
  },
  {
   "cell_type": "code",
   "execution_count": 57,
   "metadata": {},
   "outputs": [
    {
     "name": "stdout",
     "output_type": "stream",
     "text": [
      "You used an invalid email or your token may have expired. Please make sure you have entered all fields correctly. Try generating a new token if the issue still persists.\n"
     ]
    }
   ],
   "source": [
    "# you can make submission with answers so far to check yourself at this stage\n",
    "grader.submit(COURSERA_EMAIL, COURSERA_TOKEN)"
   ]
  },
  {
   "cell_type": "code",
   "execution_count": null,
   "metadata": {
    "collapsed": true
   },
   "outputs": [],
   "source": []
  }
 ],
 "metadata": {
  "kernelspec": {
   "display_name": "Python 3",
   "language": "python",
   "name": "python3"
  },
  "language_info": {
   "codemirror_mode": {
    "name": "ipython",
    "version": 3
   },
   "file_extension": ".py",
   "mimetype": "text/x-python",
   "name": "python",
   "nbconvert_exporter": "python",
   "pygments_lexer": "ipython3",
   "version": "3.6.0"
  }
 },
 "nbformat": 4,
 "nbformat_minor": 1
}
